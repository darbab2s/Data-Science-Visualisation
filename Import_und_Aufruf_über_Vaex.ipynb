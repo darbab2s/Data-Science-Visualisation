{
 "cells": [
  {
   "cell_type": "markdown",
   "metadata": {},
   "source": [
    "## Hier werden die Importe geregelt"
   ]
  },
  {
   "cell_type": "code",
   "execution_count": 1,
   "metadata": {},
   "outputs": [],
   "source": [
    "import pandas as pd\n",
    "import vaex as vx"
   ]
  },
  {
   "cell_type": "markdown",
   "metadata": {},
   "source": [
    "## Datei einlesen"
   ]
  },
  {
   "cell_type": "code",
   "execution_count": 3,
   "metadata": {},
   "outputs": [
    {
     "data": {
      "text/html": [
       "<table>\n",
       "<thead>\n",
       "<tr><th>#                                    </th><th>pos_id         </th><th>barcode      </th><th>run_id  </th><th>test_date         </th><th>sign  </th><th>value  </th><th>back_value  </th></tr>\n",
       "</thead>\n",
       "<tbody>\n",
       "<tr><td><i style='opacity: 0.6'>0</i>        </td><td>&#x27;1001200171739&#x27;</td><td>&#x27;100129017HD&#x27;</td><td>10      </td><td>&#x27;2017-07-07 03:07&#x27;</td><td>&#x27;s&#x27;   </td><td>88.33  </td><td>131.05      </td></tr>\n",
       "<tr><td><i style='opacity: 0.6'>1</i>        </td><td>&#x27;1001200171741&#x27;</td><td>&#x27;100129017HD&#x27;</td><td>10      </td><td>&#x27;2017-07-07 03:07&#x27;</td><td>&#x27;s&#x27;   </td><td>98.66  </td><td>95.69       </td></tr>\n",
       "<tr><td><i style='opacity: 0.6'>2</i>        </td><td>&#x27;1001200171742&#x27;</td><td>&#x27;100129017HD&#x27;</td><td>10      </td><td>&#x27;2017-07-07 03:07&#x27;</td><td>&#x27;s&#x27;   </td><td>35.03  </td><td>70.9        </td></tr>\n",
       "<tr><td><i style='opacity: 0.6'>3</i>        </td><td>&#x27;1001200171743&#x27;</td><td>&#x27;100129017HD&#x27;</td><td>10      </td><td>&#x27;2017-07-07 03:07&#x27;</td><td>&#x27;s&#x27;   </td><td>99.09  </td><td>79.79       </td></tr>\n",
       "<tr><td><i style='opacity: 0.6'>4</i>        </td><td>&#x27;1001200171744&#x27;</td><td>&#x27;100129017HD&#x27;</td><td>10      </td><td>&#x27;2017-07-07 03:07&#x27;</td><td>&#x27;s&#x27;   </td><td>82.09  </td><td>143.5       </td></tr>\n",
       "<tr><td>...                                  </td><td>...            </td><td>...          </td><td>...     </td><td>...               </td><td>...   </td><td>...    </td><td>...         </td></tr>\n",
       "<tr><td><i style='opacity: 0.6'>5,314,555</i></td><td>&#x27;1002000172921&#x27;</td><td>&#x27;100209017HD&#x27;</td><td>9       </td><td>&#x27;2017-07-07 09:07&#x27;</td><td>&#x27;s&#x27;   </td><td>88.9   </td><td>128.91      </td></tr>\n",
       "<tr><td><i style='opacity: 0.6'>5,314,556</i></td><td>&#x27;1002401401231&#x27;</td><td>&#x27;100249140HD&#x27;</td><td>9       </td><td>&#x27;2017-07-07 09:07&#x27;</td><td>&#x27;s&#x27;   </td><td>93.52  </td><td>91.56       </td></tr>\n",
       "<tr><td><i style='opacity: 0.6'>5,314,557</i></td><td>&#x27;1002401402813&#x27;</td><td>&#x27;100249140HD&#x27;</td><td>9       </td><td>&#x27;2017-07-07 09:07&#x27;</td><td>&#x27;s&#x27;   </td><td>88.53  </td><td>93.61       </td></tr>\n",
       "<tr><td><i style='opacity: 0.6'>5,314,558</i></td><td>&#x27;1BCS600562415&#x27;</td><td>&#x27;1BCS6Y056LD&#x27;</td><td>16      </td><td>&#x27;2017-08-23 09:08&#x27;</td><td>&#x27;s&#x27;   </td><td>89.24  </td><td>144.05      </td></tr>\n",
       "<tr><td><i style='opacity: 0.6'>5,314,559</i></td><td>&#x27;1002001101220&#x27;</td><td>&#x27;100209110HD&#x27;</td><td>12      </td><td>&#x27;2017-07-13 05:07&#x27;</td><td>&#x27;s&#x27;   </td><td>97.29  </td><td>73.87       </td></tr>\n",
       "</tbody>\n",
       "</table>"
      ],
      "text/plain": [
       "#          pos_id           barcode        run_id    test_date           sign    value    back_value\n",
       "0          '1001200171739'  '100129017HD'  10        '2017-07-07 03:07'  's'     88.33    131.05\n",
       "1          '1001200171741'  '100129017HD'  10        '2017-07-07 03:07'  's'     98.66    95.69\n",
       "2          '1001200171742'  '100129017HD'  10        '2017-07-07 03:07'  's'     35.03    70.9\n",
       "3          '1001200171743'  '100129017HD'  10        '2017-07-07 03:07'  's'     99.09    79.79\n",
       "4          '1001200171744'  '100129017HD'  10        '2017-07-07 03:07'  's'     82.09    143.5\n",
       "...        ...              ...            ...       ...                 ...     ...      ...\n",
       "5,314,555  '1002000172921'  '100209017HD'  9         '2017-07-07 09:07'  's'     88.9     128.91\n",
       "5,314,556  '1002401401231'  '100249140HD'  9         '2017-07-07 09:07'  's'     93.52    91.56\n",
       "5,314,557  '1002401402813'  '100249140HD'  9         '2017-07-07 09:07'  's'     88.53    93.61\n",
       "5,314,558  '1BCS600562415'  '1BCS6Y056LD'  16        '2017-08-23 09:08'  's'     89.24    144.05\n",
       "5,314,559  '1002001101220'  '100209110HD'  12        '2017-07-13 05:07'  's'     97.29    73.87"
      ]
     },
     "execution_count": 3,
     "metadata": {},
     "output_type": "execute_result"
    }
   ],
   "source": [
    "datei = pd.read_csv(\n",
    "    \"\"\"/Users/samel/Documents/Eigene Daten/Hochschule/aktuelles Semester/03. Projekt zur Datenanalyse/Datein/annotation_example3.txt\"\"\",\n",
    "    sep=\";\",\n",
    "    header=0\n",
    "    )\n",
    "datei = datei.rename(\n",
    "    columns={'back_value                           ': 'back_value'}\n",
    "    )\n",
    "\n",
    "daten = vx.from_pandas(datei)\n",
    "daten"
   ]
  },
  {
   "cell_type": "markdown",
   "metadata": {},
   "source": [
    " "
   ]
  },
  {
   "cell_type": "code",
   "execution_count": 8,
   "metadata": {},
   "outputs": [
    {
     "name": "stdout",
     "output_type": "stream",
     "text": [
      "Typ von \"daten\":  <class 'vaex.dataframe.DataFrameLocal'>\n",
      "Bei der Eingabe von daten.value:  value\n",
      "Bei der Eingabe von \"daten.value.values\":  [88.33 98.66 35.03 ... 88.53 89.24 97.29]\n",
      "[131.05  95.69  70.9  ...  93.61 144.05  73.87]\n",
      "Bei der Eingabe von \"daten.value.values[0]\":  88.33  -> Dies entspricht wie der Zugriff bei Pandas.\n",
      "Datenlänge/Anzahl an Datenpunkte:  5314560\n"
     ]
    }
   ],
   "source": [
    "print('Typ von \"daten\": ', type(daten))\n",
    "print('Bei der Eingabe von daten.value: ', daten.value)\n",
    "print('Bei der Eingabe von \"daten.value.values\": ', daten.value.values)\n",
    "print(daten.back_value.values)\n",
    "print('Bei der Eingabe von \"daten.value.values[0]\": ', daten.value.values[0], ' -> Dies entspricht wie der Zugriff bei Pandas.')\n",
    "print('Datenlänge/Anzahl an Datenpunkte: ', len(daten))"
   ]
  }
 ],
 "metadata": {
  "kernelspec": {
   "display_name": "Python 3",
   "language": "python",
   "name": "python3"
  },
  "language_info": {
   "codemirror_mode": {
    "name": "ipython",
    "version": 3
   },
   "file_extension": ".py",
   "mimetype": "text/x-python",
   "name": "python",
   "nbconvert_exporter": "python",
   "pygments_lexer": "ipython3",
   "version": "3.8.5"
  }
 },
 "nbformat": 4,
 "nbformat_minor": 4
}
