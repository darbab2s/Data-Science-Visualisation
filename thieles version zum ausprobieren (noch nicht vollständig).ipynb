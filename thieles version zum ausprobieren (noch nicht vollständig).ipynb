{
 "cells": [
  {
   "cell_type": "code",
   "execution_count": 34,
   "id": "herbal-graduation",
   "metadata": {},
   "outputs": [
    {
     "name": "stdout",
     "output_type": "stream",
     "text": [
      "Requirement already satisfied: numpy in c:\\users\\buffel\\anaconda3\\lib\\site-packages (1.19.2)\n",
      "Requirement already satisfied: vaex in c:\\users\\buffel\\anaconda3\\lib\\site-packages (3.0.0)\n",
      "Requirement already satisfied: vaex-jupyter<0.6,>=0.5.0 in c:\\users\\buffel\\anaconda3\\lib\\site-packages (from vaex) (0.5.2)\n",
      "Requirement already satisfied: vaex-core<3,>=2.0.0 in c:\\users\\buffel\\anaconda3\\lib\\site-packages (from vaex) (2.0.3)\n",
      "Requirement already satisfied: vaex-hdf5<0.7,>=0.6.0 in c:\\users\\buffel\\anaconda3\\lib\\site-packages (from vaex) (0.6.0)\n",
      "Requirement already satisfied: vaex-ml<0.10,>=0.9.0 in c:\\users\\buffel\\anaconda3\\lib\\site-packages (from vaex) (0.9.0)\n",
      "Requirement already satisfied: vaex-arrow<0.6,>=0.5.0 in c:\\users\\buffel\\anaconda3\\lib\\site-packages (from vaex) (0.5.1)\n",
      "Requirement already satisfied: vaex-astro<0.8,>=0.7.0 in c:\\users\\buffel\\anaconda3\\lib\\site-packages (from vaex) (0.7.0)\n",
      "Requirement already satisfied: vaex-server<0.4,>=0.3.0 in c:\\users\\buffel\\anaconda3\\lib\\site-packages (from vaex) (0.3.1)\n",
      "Requirement already satisfied: vaex-viz<0.5,>=0.4.0 in c:\\users\\buffel\\anaconda3\\lib\\site-packages (from vaex) (0.4.0)\n",
      "Requirement already satisfied: matplotlib>=1.3.1 in c:\\users\\buffel\\appdata\\roaming\\python\\python37\\site-packages (from vaex-arrow<0.6,>=0.5.0->vaex) (3.3.3)\n",
      "Requirement already satisfied: pyarrow>=0.15 in c:\\users\\buffel\\anaconda3\\lib\\site-packages (from vaex-arrow<0.6,>=0.5.0->vaex) (1.0.0)\n",
      "Requirement already satisfied: pillow in c:\\users\\buffel\\anaconda3\\lib\\site-packages (from vaex-arrow<0.6,>=0.5.0->vaex) (8.1.0)\n",
      "Requirement already satisfied: numpy>=1.15 in c:\\users\\buffel\\anaconda3\\lib\\site-packages (from matplotlib>=1.3.1->vaex-arrow<0.6,>=0.5.0->vaex) (1.19.2)\n",
      "Requirement already satisfied: python-dateutil>=2.1 in c:\\users\\buffel\\anaconda3\\lib\\site-packages (from matplotlib>=1.3.1->vaex-arrow<0.6,>=0.5.0->vaex) (2.8.1)\n",
      "Requirement already satisfied: kiwisolver>=1.0.1 in c:\\users\\buffel\\anaconda3\\lib\\site-packages (from matplotlib>=1.3.1->vaex-arrow<0.6,>=0.5.0->vaex) (1.3.0)\n",
      "Requirement already satisfied: cycler>=0.10 in c:\\users\\buffel\\anaconda3\\lib\\site-packages (from matplotlib>=1.3.1->vaex-arrow<0.6,>=0.5.0->vaex) (0.10.0)\n",
      "Requirement already satisfied: pyparsing!=2.0.4,!=2.1.2,!=2.1.6,>=2.0.3 in c:\\users\\buffel\\anaconda3\\lib\\site-packages (from matplotlib>=1.3.1->vaex-arrow<0.6,>=0.5.0->vaex) (2.4.7)\n",
      "Requirement already satisfied: six in c:\\users\\buffel\\anaconda3\\lib\\site-packages (from cycler>=0.10->matplotlib>=1.3.1->vaex-arrow<0.6,>=0.5.0->vaex) (1.15.0)\n",
      "Requirement already satisfied: future>=0.15.2 in c:\\users\\buffel\\anaconda3\\lib\\site-packages (from vaex-core<3,>=2.0.0->vaex) (0.18.2)\n",
      "Requirement already satisfied: pyyaml in c:\\users\\buffel\\anaconda3\\lib\\site-packages (from vaex-core<3,>=2.0.0->vaex) (5.4.1)\n",
      "Requirement already satisfied: requests in c:\\users\\buffel\\anaconda3\\lib\\site-packages (from vaex-core<3,>=2.0.0->vaex) (2.25.1)\n",
      "Requirement already satisfied: nest-asyncio>=1.3.3 in c:\\users\\buffel\\anaconda3\\lib\\site-packages (from vaex-core<3,>=2.0.0->vaex) (1.4.3)\n",
      "Requirement already satisfied: dask[array] in c:\\users\\buffel\\anaconda3\\lib\\site-packages (from vaex-core<3,>=2.0.0->vaex) (2020.12.0)\n",
      "Requirement already satisfied: tabulate>=0.8.3 in c:\\users\\buffel\\appdata\\roaming\\python\\python37\\site-packages (from vaex-core<3,>=2.0.0->vaex) (0.8.7)\n",
      "Requirement already satisfied: astropy>=2 in c:\\users\\buffel\\anaconda3\\lib\\site-packages (from vaex-core<3,>=2.0.0->vaex) (4.2)\n",
      "Requirement already satisfied: pandas in c:\\users\\buffel\\anaconda3\\lib\\site-packages (from vaex-core<3,>=2.0.0->vaex) (1.2.1)\n",
      "Requirement already satisfied: cloudpickle in c:\\users\\buffel\\anaconda3\\lib\\site-packages (from vaex-core<3,>=2.0.0->vaex) (1.6.0)\n",
      "Requirement already satisfied: aplus in c:\\users\\buffel\\anaconda3\\lib\\site-packages (from vaex-core<3,>=2.0.0->vaex) (0.11.0)\n",
      "Requirement already satisfied: psutil>=1.2.1 in c:\\users\\buffel\\anaconda3\\lib\\site-packages (from vaex-core<3,>=2.0.0->vaex) (5.7.2)\n",
      "Requirement already satisfied: progressbar2 in c:\\users\\buffel\\anaconda3\\lib\\site-packages (from vaex-core<3,>=2.0.0->vaex) (3.37.1)\n",
      "Requirement already satisfied: pyerfa in c:\\users\\buffel\\anaconda3\\lib\\site-packages (from astropy>=2->vaex-core<3,>=2.0.0->vaex) (1.7.1.1)\n",
      "Requirement already satisfied: s3fs<0.3 in c:\\users\\buffel\\anaconda3\\lib\\site-packages (from vaex-hdf5<0.7,>=0.6.0->vaex) (0.2.0)\n",
      "Requirement already satisfied: h5py>=2.9 in c:\\users\\buffel\\anaconda3\\lib\\site-packages (from vaex-hdf5<0.7,>=0.6.0->vaex) (2.10.0)\n",
      "Requirement already satisfied: boto3 in c:\\users\\buffel\\anaconda3\\lib\\site-packages (from s3fs<0.3->vaex-hdf5<0.7,>=0.6.0->vaex) (1.16.30)\n",
      "Requirement already satisfied: botocore in c:\\users\\buffel\\anaconda3\\lib\\site-packages (from s3fs<0.3->vaex-hdf5<0.7,>=0.6.0->vaex) (1.19.30)\n",
      "Requirement already satisfied: bqplot>=0.10.1 in c:\\users\\buffel\\anaconda3\\lib\\site-packages (from vaex-jupyter<0.6,>=0.5.0->vaex) (0.12.19)\n",
      "Requirement already satisfied: ipyleaflet in c:\\users\\buffel\\anaconda3\\lib\\site-packages (from vaex-jupyter<0.6,>=0.5.0->vaex) (0.13.4)\n",
      "Requirement already satisfied: ipyvuetify<2,>=1.2.2 in c:\\users\\buffel\\anaconda3\\lib\\site-packages (from vaex-jupyter<0.6,>=0.5.0->vaex) (1.5.1)\n",
      "Requirement already satisfied: ipyvolume>=0.4 in c:\\users\\buffel\\anaconda3\\lib\\site-packages (from vaex-jupyter<0.6,>=0.5.0->vaex) (0.6.0a6)\n",
      "Requirement already satisfied: ipympl in c:\\users\\buffel\\anaconda3\\lib\\site-packages (from vaex-jupyter<0.6,>=0.5.0->vaex) (0.5.8)\n",
      "Requirement already satisfied: xarray in c:\\users\\buffel\\anaconda3\\lib\\site-packages (from vaex-jupyter<0.6,>=0.5.0->vaex) (0.16.2)\n",
      "Requirement already satisfied: traitlets>=4.3.0 in c:\\users\\buffel\\anaconda3\\lib\\site-packages (from bqplot>=0.10.1->vaex-jupyter<0.6,>=0.5.0->vaex) (4.3.3)\n",
      "Requirement already satisfied: traittypes>=0.0.6 in c:\\users\\buffel\\anaconda3\\lib\\site-packages (from bqplot>=0.10.1->vaex-jupyter<0.6,>=0.5.0->vaex) (0.2.1)\n",
      "Requirement already satisfied: ipywidgets>=7.5.0 in c:\\users\\buffel\\anaconda3\\lib\\site-packages (from bqplot>=0.10.1->vaex-jupyter<0.6,>=0.5.0->vaex) (7.6.3)\n",
      "Requirement already satisfied: ipywebrtc in c:\\users\\buffel\\anaconda3\\lib\\site-packages (from ipyvolume>=0.4->vaex-jupyter<0.6,>=0.5.0->vaex) (0.5.0)\n",
      "Requirement already satisfied: pythreejs>=2.0.0 in c:\\users\\buffel\\anaconda3\\lib\\site-packages (from ipyvolume>=0.4->vaex-jupyter<0.6,>=0.5.0->vaex) (2.2.1)\n",
      "Requirement already satisfied: ipyvue<2,>=1.4 in c:\\users\\buffel\\anaconda3\\lib\\site-packages (from ipyvuetify<2,>=1.2.2->vaex-jupyter<0.6,>=0.5.0->vaex) (1.4.1)\n",
      "Requirement already satisfied: ipython>=4.0.0 in c:\\users\\buffel\\anaconda3\\lib\\site-packages (from ipywidgets>=7.5.0->bqplot>=0.10.1->vaex-jupyter<0.6,>=0.5.0->vaex) (7.19.0)\n",
      "Requirement already satisfied: nbformat>=4.2.0 in c:\\users\\buffel\\anaconda3\\lib\\site-packages (from ipywidgets>=7.5.0->bqplot>=0.10.1->vaex-jupyter<0.6,>=0.5.0->vaex) (5.1.2)\n",
      "Requirement already satisfied: ipykernel>=4.5.1 in c:\\users\\buffel\\anaconda3\\lib\\site-packages (from ipywidgets>=7.5.0->bqplot>=0.10.1->vaex-jupyter<0.6,>=0.5.0->vaex) (5.3.4)\n",
      "Requirement already satisfied: widgetsnbextension~=3.5.0 in c:\\users\\buffel\\anaconda3\\lib\\site-packages (from ipywidgets>=7.5.0->bqplot>=0.10.1->vaex-jupyter<0.6,>=0.5.0->vaex) (3.5.1)\n",
      "Requirement already satisfied: jupyterlab-widgets>=1.0.0 in c:\\users\\buffel\\anaconda3\\lib\\site-packages (from ipywidgets>=7.5.0->bqplot>=0.10.1->vaex-jupyter<0.6,>=0.5.0->vaex) (1.0.0)\n",
      "Requirement already satisfied: jupyter-client in c:\\users\\buffel\\anaconda3\\lib\\site-packages (from ipykernel>=4.5.1->ipywidgets>=7.5.0->bqplot>=0.10.1->vaex-jupyter<0.6,>=0.5.0->vaex) (6.1.7)\n",
      "Requirement already satisfied: tornado>=4.2 in c:\\users\\buffel\\anaconda3\\lib\\site-packages (from ipykernel>=4.5.1->ipywidgets>=7.5.0->bqplot>=0.10.1->vaex-jupyter<0.6,>=0.5.0->vaex) (6.1)\n",
      "Requirement already satisfied: colorama in c:\\users\\buffel\\anaconda3\\lib\\site-packages (from ipython>=4.0.0->ipywidgets>=7.5.0->bqplot>=0.10.1->vaex-jupyter<0.6,>=0.5.0->vaex) (0.4.4)\n",
      "Requirement already satisfied: prompt-toolkit!=3.0.0,!=3.0.1,<3.1.0,>=2.0.0 in c:\\users\\buffel\\anaconda3\\lib\\site-packages (from ipython>=4.0.0->ipywidgets>=7.5.0->bqplot>=0.10.1->vaex-jupyter<0.6,>=0.5.0->vaex) (3.0.8)\n",
      "Requirement already satisfied: jedi>=0.10 in c:\\users\\buffel\\anaconda3\\lib\\site-packages (from ipython>=4.0.0->ipywidgets>=7.5.0->bqplot>=0.10.1->vaex-jupyter<0.6,>=0.5.0->vaex) (0.14.1)\n",
      "Requirement already satisfied: pygments in c:\\users\\buffel\\anaconda3\\lib\\site-packages (from ipython>=4.0.0->ipywidgets>=7.5.0->bqplot>=0.10.1->vaex-jupyter<0.6,>=0.5.0->vaex) (2.7.4)\n",
      "Requirement already satisfied: backcall in c:\\users\\buffel\\anaconda3\\lib\\site-packages (from ipython>=4.0.0->ipywidgets>=7.5.0->bqplot>=0.10.1->vaex-jupyter<0.6,>=0.5.0->vaex) (0.2.0)\n",
      "Requirement already satisfied: setuptools>=18.5 in c:\\users\\buffel\\anaconda3\\lib\\site-packages (from ipython>=4.0.0->ipywidgets>=7.5.0->bqplot>=0.10.1->vaex-jupyter<0.6,>=0.5.0->vaex) (51.3.3.post20210118)\n",
      "Requirement already satisfied: pickleshare in c:\\users\\buffel\\anaconda3\\lib\\site-packages (from ipython>=4.0.0->ipywidgets>=7.5.0->bqplot>=0.10.1->vaex-jupyter<0.6,>=0.5.0->vaex) (0.7.5)\n",
      "Requirement already satisfied: decorator in c:\\users\\buffel\\anaconda3\\lib\\site-packages (from ipython>=4.0.0->ipywidgets>=7.5.0->bqplot>=0.10.1->vaex-jupyter<0.6,>=0.5.0->vaex) (4.4.2)\n",
      "Requirement already satisfied: parso>=0.5.0 in c:\\users\\buffel\\anaconda3\\lib\\site-packages (from jedi>=0.10->ipython>=4.0.0->ipywidgets>=7.5.0->bqplot>=0.10.1->vaex-jupyter<0.6,>=0.5.0->vaex) (0.5.2)\n",
      "Requirement already satisfied: ipython-genutils in c:\\users\\buffel\\anaconda3\\lib\\site-packages (from nbformat>=4.2.0->ipywidgets>=7.5.0->bqplot>=0.10.1->vaex-jupyter<0.6,>=0.5.0->vaex) (0.2.0)\n",
      "Requirement already satisfied: jupyter-core in c:\\users\\buffel\\anaconda3\\lib\\site-packages (from nbformat>=4.2.0->ipywidgets>=7.5.0->bqplot>=0.10.1->vaex-jupyter<0.6,>=0.5.0->vaex) (4.7.0)\n",
      "Requirement already satisfied: jsonschema!=2.5.0,>=2.4 in c:\\users\\buffel\\anaconda3\\lib\\site-packages (from nbformat>=4.2.0->ipywidgets>=7.5.0->bqplot>=0.10.1->vaex-jupyter<0.6,>=0.5.0->vaex) (3.0.2)\n",
      "Requirement already satisfied: pyrsistent>=0.14.0 in c:\\users\\buffel\\anaconda3\\lib\\site-packages (from jsonschema!=2.5.0,>=2.4->nbformat>=4.2.0->ipywidgets>=7.5.0->bqplot>=0.10.1->vaex-jupyter<0.6,>=0.5.0->vaex) (0.17.3)\n",
      "Requirement already satisfied: attrs>=17.4.0 in c:\\users\\buffel\\anaconda3\\lib\\site-packages (from jsonschema!=2.5.0,>=2.4->nbformat>=4.2.0->ipywidgets>=7.5.0->bqplot>=0.10.1->vaex-jupyter<0.6,>=0.5.0->vaex) (20.3.0)\n",
      "Requirement already satisfied: wcwidth in c:\\users\\buffel\\anaconda3\\lib\\site-packages (from prompt-toolkit!=3.0.0,!=3.0.1,<3.1.0,>=2.0.0->ipython>=4.0.0->ipywidgets>=7.5.0->bqplot>=0.10.1->vaex-jupyter<0.6,>=0.5.0->vaex) (0.2.5)\n",
      "Requirement already satisfied: ipydatawidgets>=1.1.1 in c:\\users\\buffel\\anaconda3\\lib\\site-packages (from pythreejs>=2.0.0->ipyvolume>=0.4->vaex-jupyter<0.6,>=0.5.0->vaex) (4.1.0)\n",
      "Requirement already satisfied: numba in c:\\users\\buffel\\anaconda3\\lib\\site-packages (from vaex-ml<0.10,>=0.9.0->vaex) (0.51.2)\n",
      "Requirement already satisfied: jinja2 in c:\\users\\buffel\\anaconda3\\lib\\site-packages (from vaex-ml<0.10,>=0.9.0->vaex) (2.11.2)\n",
      "Requirement already satisfied: cachetools in c:\\users\\buffel\\anaconda3\\lib\\site-packages (from vaex-server<0.4,>=0.3.0->vaex) (4.2.0)\n",
      "Requirement already satisfied: notebook>=4.4.1 in c:\\users\\buffel\\anaconda3\\lib\\site-packages (from widgetsnbextension~=3.5.0->ipywidgets>=7.5.0->bqplot>=0.10.1->vaex-jupyter<0.6,>=0.5.0->vaex) (6.2.0)\n",
      "Requirement already satisfied: Send2Trash>=1.5.0 in c:\\users\\buffel\\anaconda3\\lib\\site-packages (from notebook>=4.4.1->widgetsnbextension~=3.5.0->ipywidgets>=7.5.0->bqplot>=0.10.1->vaex-jupyter<0.6,>=0.5.0->vaex) (1.5.0)\n",
      "Requirement already satisfied: nbconvert in c:\\users\\buffel\\anaconda3\\lib\\site-packages (from notebook>=4.4.1->widgetsnbextension~=3.5.0->ipywidgets>=7.5.0->bqplot>=0.10.1->vaex-jupyter<0.6,>=0.5.0->vaex) (6.0.7)\n",
      "Requirement already satisfied: terminado>=0.8.3 in c:\\users\\buffel\\anaconda3\\lib\\site-packages (from notebook>=4.4.1->widgetsnbextension~=3.5.0->ipywidgets>=7.5.0->bqplot>=0.10.1->vaex-jupyter<0.6,>=0.5.0->vaex) (0.9.2)\n",
      "Requirement already satisfied: prometheus-client in c:\\users\\buffel\\anaconda3\\lib\\site-packages (from notebook>=4.4.1->widgetsnbextension~=3.5.0->ipywidgets>=7.5.0->bqplot>=0.10.1->vaex-jupyter<0.6,>=0.5.0->vaex) (0.9.0)\n",
      "Requirement already satisfied: pyzmq>=17 in c:\\users\\buffel\\anaconda3\\lib\\site-packages (from notebook>=4.4.1->widgetsnbextension~=3.5.0->ipywidgets>=7.5.0->bqplot>=0.10.1->vaex-jupyter<0.6,>=0.5.0->vaex) (20.0.0)\n",
      "Requirement already satisfied: argon2-cffi in c:\\users\\buffel\\anaconda3\\lib\\site-packages (from notebook>=4.4.1->widgetsnbextension~=3.5.0->ipywidgets>=7.5.0->bqplot>=0.10.1->vaex-jupyter<0.6,>=0.5.0->vaex) (20.1.0)\n",
      "Requirement already satisfied: pywin32>=1.0 in c:\\users\\buffel\\anaconda3\\lib\\site-packages (from jupyter-core->nbformat>=4.2.0->ipywidgets>=7.5.0->bqplot>=0.10.1->vaex-jupyter<0.6,>=0.5.0->vaex) (227)\n",
      "Requirement already satisfied: pywinpty>=0.5 in c:\\users\\buffel\\anaconda3\\lib\\site-packages (from terminado>=0.8.3->notebook>=4.4.1->widgetsnbextension~=3.5.0->ipywidgets>=7.5.0->bqplot>=0.10.1->vaex-jupyter<0.6,>=0.5.0->vaex) (0.5.7)\n",
      "Requirement already satisfied: cffi>=1.0.0 in c:\\users\\buffel\\anaconda3\\lib\\site-packages (from argon2-cffi->notebook>=4.4.1->widgetsnbextension~=3.5.0->ipywidgets>=7.5.0->bqplot>=0.10.1->vaex-jupyter<0.6,>=0.5.0->vaex) (1.14.4)\n",
      "Requirement already satisfied: pycparser in c:\\users\\buffel\\anaconda3\\lib\\site-packages (from cffi>=1.0.0->argon2-cffi->notebook>=4.4.1->widgetsnbextension~=3.5.0->ipywidgets>=7.5.0->bqplot>=0.10.1->vaex-jupyter<0.6,>=0.5.0->vaex) (2.20)\n",
      "Requirement already satisfied: s3transfer<0.4.0,>=0.3.0 in c:\\users\\buffel\\anaconda3\\lib\\site-packages (from boto3->s3fs<0.3->vaex-hdf5<0.7,>=0.6.0->vaex) (0.3.4)\n",
      "Requirement already satisfied: jmespath<1.0.0,>=0.7.1 in c:\\users\\buffel\\anaconda3\\lib\\site-packages (from boto3->s3fs<0.3->vaex-hdf5<0.7,>=0.6.0->vaex) (0.10.0)\n",
      "Requirement already satisfied: urllib3<1.27,>=1.25.4 in c:\\users\\buffel\\anaconda3\\lib\\site-packages (from botocore->s3fs<0.3->vaex-hdf5<0.7,>=0.6.0->vaex) (1.26.2)\n",
      "Requirement already satisfied: toolz>=0.8.2 in c:\\users\\buffel\\anaconda3\\lib\\site-packages (from dask[array]->vaex-core<3,>=2.0.0->vaex) (0.11.1)\n",
      "Requirement already satisfied: branca<0.5,>=0.3.1 in c:\\users\\buffel\\anaconda3\\lib\\site-packages (from ipyleaflet->vaex-jupyter<0.6,>=0.5.0->vaex) (0.4.2)\n",
      "Requirement already satisfied: shapely in c:\\users\\buffel\\anaconda3\\lib\\site-packages (from ipyleaflet->vaex-jupyter<0.6,>=0.5.0->vaex) (1.7.1)\n",
      "Requirement already satisfied: MarkupSafe>=0.23 in c:\\users\\buffel\\anaconda3\\lib\\site-packages (from jinja2->vaex-ml<0.10,>=0.9.0->vaex) (1.1.1)\n",
      "Requirement already satisfied: nbclient<0.6.0,>=0.5.0 in c:\\users\\buffel\\anaconda3\\lib\\site-packages (from nbconvert->notebook>=4.4.1->widgetsnbextension~=3.5.0->ipywidgets>=7.5.0->bqplot>=0.10.1->vaex-jupyter<0.6,>=0.5.0->vaex) (0.5.1)\n",
      "Requirement already satisfied: testpath in c:\\users\\buffel\\anaconda3\\lib\\site-packages (from nbconvert->notebook>=4.4.1->widgetsnbextension~=3.5.0->ipywidgets>=7.5.0->bqplot>=0.10.1->vaex-jupyter<0.6,>=0.5.0->vaex) (0.4.4)\n",
      "Requirement already satisfied: jupyterlab-pygments in c:\\users\\buffel\\anaconda3\\lib\\site-packages (from nbconvert->notebook>=4.4.1->widgetsnbextension~=3.5.0->ipywidgets>=7.5.0->bqplot>=0.10.1->vaex-jupyter<0.6,>=0.5.0->vaex) (0.1.2)\n",
      "Requirement already satisfied: bleach in c:\\users\\buffel\\anaconda3\\lib\\site-packages (from nbconvert->notebook>=4.4.1->widgetsnbextension~=3.5.0->ipywidgets>=7.5.0->bqplot>=0.10.1->vaex-jupyter<0.6,>=0.5.0->vaex) (3.2.2)\n",
      "Requirement already satisfied: mistune<2,>=0.8.1 in c:\\users\\buffel\\anaconda3\\lib\\site-packages (from nbconvert->notebook>=4.4.1->widgetsnbextension~=3.5.0->ipywidgets>=7.5.0->bqplot>=0.10.1->vaex-jupyter<0.6,>=0.5.0->vaex) (0.8.4)\n",
      "Requirement already satisfied: entrypoints>=0.2.2 in c:\\users\\buffel\\anaconda3\\lib\\site-packages (from nbconvert->notebook>=4.4.1->widgetsnbextension~=3.5.0->ipywidgets>=7.5.0->bqplot>=0.10.1->vaex-jupyter<0.6,>=0.5.0->vaex) (0.3)\n",
      "Requirement already satisfied: pandocfilters>=1.4.1 in c:\\users\\buffel\\anaconda3\\lib\\site-packages (from nbconvert->notebook>=4.4.1->widgetsnbextension~=3.5.0->ipywidgets>=7.5.0->bqplot>=0.10.1->vaex-jupyter<0.6,>=0.5.0->vaex) (1.4.3)\n",
      "Requirement already satisfied: defusedxml in c:\\users\\buffel\\anaconda3\\lib\\site-packages (from nbconvert->notebook>=4.4.1->widgetsnbextension~=3.5.0->ipywidgets>=7.5.0->bqplot>=0.10.1->vaex-jupyter<0.6,>=0.5.0->vaex) (0.6.0)\n",
      "Requirement already satisfied: async-generator in c:\\users\\buffel\\anaconda3\\lib\\site-packages (from nbclient<0.6.0,>=0.5.0->nbconvert->notebook>=4.4.1->widgetsnbextension~=3.5.0->ipywidgets>=7.5.0->bqplot>=0.10.1->vaex-jupyter<0.6,>=0.5.0->vaex) (1.10)\n",
      "Requirement already satisfied: packaging in c:\\users\\buffel\\anaconda3\\lib\\site-packages (from bleach->nbconvert->notebook>=4.4.1->widgetsnbextension~=3.5.0->ipywidgets>=7.5.0->bqplot>=0.10.1->vaex-jupyter<0.6,>=0.5.0->vaex) (20.8)\n",
      "Requirement already satisfied: webencodings in c:\\users\\buffel\\anaconda3\\lib\\site-packages (from bleach->nbconvert->notebook>=4.4.1->widgetsnbextension~=3.5.0->ipywidgets>=7.5.0->bqplot>=0.10.1->vaex-jupyter<0.6,>=0.5.0->vaex) (0.5.1)\n",
      "Requirement already satisfied: llvmlite<0.35,>=0.34.0.dev0 in c:\\users\\buffel\\anaconda3\\lib\\site-packages (from numba->vaex-ml<0.10,>=0.9.0->vaex) (0.34.0)\n",
      "Requirement already satisfied: pytz>=2017.3 in c:\\users\\buffel\\anaconda3\\lib\\site-packages (from pandas->vaex-core<3,>=2.0.0->vaex) (2020.5)\n",
      "Requirement already satisfied: python-utils>=2.3.0 in c:\\users\\buffel\\anaconda3\\lib\\site-packages (from progressbar2->vaex-core<3,>=2.0.0->vaex) (2.5.2)\n",
      "Requirement already satisfied: chardet<5,>=3.0.2 in c:\\users\\buffel\\anaconda3\\lib\\site-packages (from requests->vaex-core<3,>=2.0.0->vaex) (4.0.0)\n",
      "Requirement already satisfied: certifi>=2017.4.17 in c:\\users\\buffel\\anaconda3\\lib\\site-packages (from requests->vaex-core<3,>=2.0.0->vaex) (2020.12.5)\n",
      "Requirement already satisfied: idna<3,>=2.5 in c:\\users\\buffel\\anaconda3\\lib\\site-packages (from requests->vaex-core<3,>=2.0.0->vaex) (2.10)\n"
     ]
    },
    {
     "name": "stdout",
     "output_type": "stream",
     "text": [
      "Requirement already satisfied: matplotlib in c:\\users\\buffel\\appdata\\roaming\\python\\python37\\site-packages (3.3.3)\n",
      "Requirement already satisfied: pyparsing!=2.0.4,!=2.1.2,!=2.1.6,>=2.0.3 in c:\\users\\buffel\\anaconda3\\lib\\site-packages (from matplotlib) (2.4.7)\n",
      "Requirement already satisfied: numpy>=1.15 in c:\\users\\buffel\\anaconda3\\lib\\site-packages (from matplotlib) (1.19.2)\n",
      "Requirement already satisfied: python-dateutil>=2.1 in c:\\users\\buffel\\anaconda3\\lib\\site-packages (from matplotlib) (2.8.1)\n",
      "Requirement already satisfied: pillow>=6.2.0 in c:\\users\\buffel\\anaconda3\\lib\\site-packages (from matplotlib) (8.1.0)\n",
      "Requirement already satisfied: cycler>=0.10 in c:\\users\\buffel\\anaconda3\\lib\\site-packages (from matplotlib) (0.10.0)\n",
      "Requirement already satisfied: kiwisolver>=1.0.1 in c:\\users\\buffel\\anaconda3\\lib\\site-packages (from matplotlib) (1.3.0)\n",
      "Requirement already satisfied: six in c:\\users\\buffel\\anaconda3\\lib\\site-packages (from cycler>=0.10->matplotlib) (1.15.0)\n",
      "Requirement already satisfied: seaborn in c:\\users\\buffel\\anaconda3\\lib\\site-packages (0.11.1)\n",
      "Requirement already satisfied: matplotlib>=2.2 in c:\\users\\buffel\\appdata\\roaming\\python\\python37\\site-packages (from seaborn) (3.3.3)\n",
      "Requirement already satisfied: numpy>=1.15 in c:\\users\\buffel\\anaconda3\\lib\\site-packages (from seaborn) (1.19.2)\n",
      "Requirement already satisfied: pandas>=0.23 in c:\\users\\buffel\\anaconda3\\lib\\site-packages (from seaborn) (1.2.1)\n",
      "Requirement already satisfied: scipy>=1.0 in c:\\users\\buffel\\anaconda3\\lib\\site-packages (from seaborn) (1.5.2)\n",
      "Requirement already satisfied: pillow>=6.2.0 in c:\\users\\buffel\\anaconda3\\lib\\site-packages (from matplotlib>=2.2->seaborn) (8.1.0)\n",
      "Requirement already satisfied: python-dateutil>=2.1 in c:\\users\\buffel\\anaconda3\\lib\\site-packages (from matplotlib>=2.2->seaborn) (2.8.1)\n",
      "Requirement already satisfied: pyparsing!=2.0.4,!=2.1.2,!=2.1.6,>=2.0.3 in c:\\users\\buffel\\anaconda3\\lib\\site-packages (from matplotlib>=2.2->seaborn) (2.4.7)\n",
      "Requirement already satisfied: kiwisolver>=1.0.1 in c:\\users\\buffel\\anaconda3\\lib\\site-packages (from matplotlib>=2.2->seaborn) (1.3.0)\n",
      "Requirement already satisfied: cycler>=0.10 in c:\\users\\buffel\\anaconda3\\lib\\site-packages (from matplotlib>=2.2->seaborn) (0.10.0)\n",
      "Requirement already satisfied: six in c:\\users\\buffel\\anaconda3\\lib\\site-packages (from cycler>=0.10->matplotlib>=2.2->seaborn) (1.15.0)\n",
      "Requirement already satisfied: pytz>=2017.3 in c:\\users\\buffel\\anaconda3\\lib\\site-packages (from pandas>=0.23->seaborn) (2020.5)\n",
      "Requirement already satisfied: pandas in c:\\users\\buffel\\anaconda3\\lib\\site-packages (1.2.1)\n",
      "Requirement already satisfied: python-dateutil>=2.7.3 in c:\\users\\buffel\\anaconda3\\lib\\site-packages (from pandas) (2.8.1)\n",
      "Requirement already satisfied: numpy>=1.16.5 in c:\\users\\buffel\\anaconda3\\lib\\site-packages (from pandas) (1.19.2)\n",
      "Requirement already satisfied: pytz>=2017.3 in c:\\users\\buffel\\anaconda3\\lib\\site-packages (from pandas) (2020.5)\n",
      "Requirement already satisfied: six>=1.5 in c:\\users\\buffel\\anaconda3\\lib\\site-packages (from python-dateutil>=2.7.3->pandas) (1.15.0)\n"
     ]
    }
   ],
   "source": [
    "# lib downloads\n",
    "import sys\n",
    "start_time = time.time()\n",
    "!{sys.executable} -m pip install numpy\n",
    "!{sys.executable} -m pip install vaex\n",
    "!{sys.executable} -m pip install matplotlib\n",
    "!{sys.executable} -m pip install seaborn\n",
    "!{sys.executable} -m pip install pandas\n",
    "print(\"--- %s seconds ---\" % (time.time() - start_time))"
   ]
  },
  {
   "cell_type": "code",
   "execution_count": 1,
   "id": "beneficial-carol",
   "metadata": {},
   "outputs": [
    {
     "name": "stdout",
     "output_type": "stream",
     "text": [
      "--- 3.120004415512085 seconds ---\n"
     ]
    }
   ],
   "source": [
    "import time\n",
    "start_time = time.time()\n",
    "\n",
    "import vaex\n",
    "import vaex.jupyter\n",
    "import vaex.jupyter.model as vjm\n",
    "import numpy as np\n",
    "import matplotlib.pyplot as plt\n",
    "import vaex.jupyter\n",
    "\n",
    "\n",
    "import seaborn as sns\n",
    "\n",
    "import pandas as pd\n",
    "print(\"--- %s seconds ---\" % (time.time() - start_time))\n"
   ]
  },
  {
   "cell_type": "code",
   "execution_count": 2,
   "id": "neither-looking",
   "metadata": {
    "scrolled": true
   },
   "outputs": [
    {
     "name": "stdout",
     "output_type": "stream",
     "text": [
      "--- 4.641006231307983 seconds ---\n",
      "--- 57.87439584732056 seconds ---\n",
      "--- 115.55251932144165 seconds ---\n",
      "--- 118.1975257396698 seconds ---\n"
     ]
    },
    {
     "data": {
      "text/html": [
       "<table>\n",
       "<thead>\n",
       "<tr><th>#                                    </th><th>pos_id       </th><th>barcode    </th><th>run_id  </th><th>test_date       </th><th>sign  </th><th>value  </th><th>back_value  </th><th>valueLog          </th><th>backvalueLog      </th></tr>\n",
       "</thead>\n",
       "<tbody>\n",
       "<tr><td><i style='opacity: 0.6'>0</i>        </td><td>1D99900010425</td><td>1D9990001AA</td><td>1       </td><td>2011-08-02 10:08</td><td>n     </td><td>102.48 </td><td>99.97       </td><td>2.0106814931314436</td><td>1.9999131324165715</td></tr>\n",
       "<tr><td><i style='opacity: 0.6'>1</i>        </td><td>1D99900010426</td><td>1D9990001AA</td><td>1       </td><td>2011-08-02 10:08</td><td>n     </td><td>89.8   </td><td>106.2       </td><td>1.9533246963891853</td><td>2.0261654088392524</td></tr>\n",
       "<tr><td><i style='opacity: 0.6'>2</i>        </td><td>1D99900010427</td><td>1D9990001AA</td><td>1       </td><td>2011-08-02 10:08</td><td>n     </td><td>91.11  </td><td>104.31      </td><td>1.9596137110710439</td><td>2.018367578387845 </td></tr>\n",
       "<tr><td><i style='opacity: 0.6'>3</i>        </td><td>1D99900010428</td><td>1D9990001AA</td><td>1       </td><td>2011-08-02 10:08</td><td>n     </td><td>86.9   </td><td>107.12      </td><td>1.9390697499234244</td><td>2.0299111049124443</td></tr>\n",
       "<tr><td><i style='opacity: 0.6'>4</i>        </td><td>1D99900010429</td><td>1D9990001AA</td><td>1       </td><td>2011-08-02 10:08</td><td>n     </td><td>88.18  </td><td>100.59      </td><td>1.9454193426030633</td><td>2.0025979807199086</td></tr>\n",
       "<tr><td>...                                  </td><td>...          </td><td>...        </td><td>...     </td><td>...             </td><td>...   </td><td>...    </td><td>...         </td><td>...               </td><td>...               </td></tr>\n",
       "<tr><td><i style='opacity: 0.6'>3,985,915</i></td><td>1DUMY04150201</td><td>1DUMY0415AE</td><td>11      </td><td>2012-10-27 10:10</td><td>n     </td><td>90.98  </td><td>104.34      </td><td>1.958993665030326 </td><td>2.018492453401473 </td></tr>\n",
       "<tr><td><i style='opacity: 0.6'>3,985,916</i></td><td>1DUMY04150202</td><td>1DUMY0415AE</td><td>11      </td><td>2012-10-27 10:10</td><td>n     </td><td>103.84 </td><td>110.09      </td><td>2.016406500871118 </td><td>2.041787318971752 </td></tr>\n",
       "<tr><td><i style='opacity: 0.6'>3,985,917</i></td><td>1DUMY04150203</td><td>1DUMY0415AE</td><td>11      </td><td>2012-10-27 10:10</td><td>n     </td><td>109.63 </td><td>100.68      </td><td>2.039969026867461 </td><td>2.002986340856785 </td></tr>\n",
       "<tr><td><i style='opacity: 0.6'>3,985,918</i></td><td>1DUMY04150204</td><td>1DUMY0415AE</td><td>11      </td><td>2012-10-27 10:10</td><td>n     </td><td>100.13 </td><td>101.13      </td><td>2.0006075870628903</td><td>2.004922949296526 </td></tr>\n",
       "<tr><td><i style='opacity: 0.6'>3,985,919</i></td><td>1DUMY04150205</td><td>1DUMY0415AE</td><td>11      </td><td>2012-10-27 10:10</td><td>n     </td><td>125.69 </td><td>86.37       </td><td>2.0993352776859577</td><td>1.9364131997114797</td></tr>\n",
       "</tbody>\n",
       "</table>"
      ],
      "text/plain": [
       "#          pos_id         barcode      run_id    test_date         sign    value    back_value    valueLog            backvalueLog\n",
       "0          1D99900010425  1D9990001AA  1         2011-08-02 10:08  n       102.48   99.97         2.0106814931314436  1.9999131324165715\n",
       "1          1D99900010426  1D9990001AA  1         2011-08-02 10:08  n       89.8     106.2         1.9533246963891853  2.0261654088392524\n",
       "2          1D99900010427  1D9990001AA  1         2011-08-02 10:08  n       91.11    104.31        1.9596137110710439  2.018367578387845\n",
       "3          1D99900010428  1D9990001AA  1         2011-08-02 10:08  n       86.9     107.12        1.9390697499234244  2.0299111049124443\n",
       "4          1D99900010429  1D9990001AA  1         2011-08-02 10:08  n       88.18    100.59        1.9454193426030633  2.0025979807199086\n",
       "...        ...            ...          ...       ...               ...     ...      ...           ...                 ...\n",
       "3,985,915  1DUMY04150201  1DUMY0415AE  11        2012-10-27 10:10  n       90.98    104.34        1.958993665030326   2.018492453401473\n",
       "3,985,916  1DUMY04150202  1DUMY0415AE  11        2012-10-27 10:10  n       103.84   110.09        2.016406500871118   2.041787318971752\n",
       "3,985,917  1DUMY04150203  1DUMY0415AE  11        2012-10-27 10:10  n       109.63   100.68        2.039969026867461   2.002986340856785\n",
       "3,985,918  1DUMY04150204  1DUMY0415AE  11        2012-10-27 10:10  n       100.13   101.13        2.0006075870628903  2.004922949296526\n",
       "3,985,919  1DUMY04150205  1DUMY0415AE  11        2012-10-27 10:10  n       125.69   86.37         2.0993352776859577  1.9364131997114797"
      ]
     },
     "metadata": {},
     "output_type": "display_data"
    },
    {
     "name": "stdout",
     "output_type": "stream",
     "text": [
      "--- 118.22752547264099 seconds ---\n"
     ]
    }
   ],
   "source": [
    "start_time = time.time()\n",
    "# Dateipfad: ein ordner namens \"assets\" der im gleichen ordner wie das ipython Notebook liegt und die datei enthält\n",
    "pandas_df = pd.read_csv('assets/annotation_example1.txt',sep=\";\")\n",
    "print(\"--- %s seconds ---\" % (time.time() - start_time))\n",
    "\n",
    "pandas_df['valueLog'] = pandas_df.apply(lambda row: np.log10(row.value+0.01), axis=1)\n",
    "print(\"--- %s seconds ---\" % (time.time() - start_time))\n",
    "pandas_df['backvalueLog'] = pandas_df.apply(lambda row: np.log10(row.back_value+0.01), axis=1)\n",
    "print(\"--- %s seconds ---\" % (time.time() - start_time))\n",
    "\n",
    "df = vaex.from_pandas(df=pandas_df)\n",
    "print(\"--- %s seconds ---\" % (time.time() - start_time))\n",
    "\n",
    "display(df)\n",
    "print(\"--- %s seconds ---\" % (time.time() - start_time))\n"
   ]
  },
  {
   "cell_type": "code",
   "execution_count": 3,
   "id": "minus-beatles",
   "metadata": {},
   "outputs": [
    {
     "name": "stdout",
     "output_type": "stream",
     "text": [
      "--- 0.0 seconds ---\n"
     ]
    }
   ],
   "source": [
    "start_time = time.time()\n",
    "# in manchen datensätzen heißt die spalte backvalue, in manchen back_value, hier anpassen\n",
    "df = df['value', 'back_value', 'sign','valueLog','backvalueLog']\n",
    "print(\"--- %s seconds ---\" % (time.time() - start_time))\n"
   ]
  },
  {
   "cell_type": "code",
   "execution_count": 7,
   "id": "commercial-quantity",
   "metadata": {},
   "outputs": [
    {
     "name": "stdout",
     "output_type": "stream",
     "text": [
      "3985920\n"
     ]
    },
    {
     "data": {
      "text/html": [
       "<table>\n",
       "<thead>\n",
       "<tr><th>#                                    </th><th>value  </th><th>back_value  </th><th>sign  </th></tr>\n",
       "</thead>\n",
       "<tbody>\n",
       "<tr><td><i style='opacity: 0.6'>0</i>        </td><td>102.48 </td><td>99.97       </td><td>n     </td></tr>\n",
       "<tr><td><i style='opacity: 0.6'>1</i>        </td><td>89.8   </td><td>106.2       </td><td>n     </td></tr>\n",
       "<tr><td><i style='opacity: 0.6'>2</i>        </td><td>91.11  </td><td>104.31      </td><td>n     </td></tr>\n",
       "<tr><td><i style='opacity: 0.6'>3</i>        </td><td>86.9   </td><td>107.12      </td><td>n     </td></tr>\n",
       "<tr><td><i style='opacity: 0.6'>4</i>        </td><td>88.18  </td><td>100.59      </td><td>n     </td></tr>\n",
       "<tr><td>...                                  </td><td>...    </td><td>...         </td><td>...   </td></tr>\n",
       "<tr><td><i style='opacity: 0.6'>3,985,915</i></td><td>90.98  </td><td>104.34      </td><td>n     </td></tr>\n",
       "<tr><td><i style='opacity: 0.6'>3,985,916</i></td><td>103.84 </td><td>110.09      </td><td>n     </td></tr>\n",
       "<tr><td><i style='opacity: 0.6'>3,985,917</i></td><td>109.63 </td><td>100.68      </td><td>n     </td></tr>\n",
       "<tr><td><i style='opacity: 0.6'>3,985,918</i></td><td>100.13 </td><td>101.13      </td><td>n     </td></tr>\n",
       "<tr><td><i style='opacity: 0.6'>3,985,919</i></td><td>125.69 </td><td>86.37       </td><td>n     </td></tr>\n",
       "</tbody>\n",
       "</table>"
      ],
      "text/plain": [
       "#          value    back_value    sign\n",
       "0          102.48   99.97         n\n",
       "1          89.8     106.2         n\n",
       "2          91.11    104.31        n\n",
       "3          86.9     107.12        n\n",
       "4          88.18    100.59        n\n",
       "...        ...      ...           ...\n",
       "3,985,915  90.98    104.34        n\n",
       "3,985,916  103.84   110.09        n\n",
       "3,985,917  109.63   100.68        n\n",
       "3,985,918  100.13   101.13        n\n",
       "3,985,919  125.69   86.37         n"
      ]
     },
     "metadata": {},
     "output_type": "display_data"
    },
    {
     "name": "stdout",
     "output_type": "stream",
     "text": [
      "--- 7.43042516708374 seconds ---\n"
     ]
    }
   ],
   "source": [
    "#start_time = time.time()\n",
    "#df = vaex.from_csv('assets/annotation_example1.txt',sep=\";\")\n",
    "\n",
    "#df = df['value', 'back_value', 'sign']\n",
    "#print(len(df))\n",
    "#length = len(df)\n",
    "#display(df)\n",
    "#print(\"--- %s seconds ---\" % (time.time() - start_time))\n"
   ]
  },
  {
   "cell_type": "code",
   "execution_count": 64,
   "id": "significant-danger",
   "metadata": {},
   "outputs": [
    {
     "name": "stdout",
     "output_type": "stream",
     "text": [
      "5314518\n"
     ]
    },
    {
     "data": {
      "text/html": [
       "<table>\n",
       "<thead>\n",
       "<tr><th>#                                    </th><th>value  </th><th>backvalue  </th><th>sign  </th></tr>\n",
       "</thead>\n",
       "<tbody>\n",
       "<tr><td><i style='opacity: 0.6'>0</i>        </td><td>88.33  </td><td>131.05     </td><td>s     </td></tr>\n",
       "<tr><td><i style='opacity: 0.6'>1</i>        </td><td>98.66  </td><td>95.69      </td><td>s     </td></tr>\n",
       "<tr><td><i style='opacity: 0.6'>2</i>        </td><td>35.03  </td><td>70.9       </td><td>s     </td></tr>\n",
       "<tr><td><i style='opacity: 0.6'>3</i>        </td><td>99.09  </td><td>79.79      </td><td>s     </td></tr>\n",
       "<tr><td><i style='opacity: 0.6'>4</i>        </td><td>82.09  </td><td>143.5      </td><td>s     </td></tr>\n",
       "<tr><td>...                                  </td><td>...    </td><td>...        </td><td>...   </td></tr>\n",
       "<tr><td><i style='opacity: 0.6'>5,314,513</i></td><td>91.29  </td><td>62.59      </td><td>s     </td></tr>\n",
       "<tr><td><i style='opacity: 0.6'>5,314,514</i></td><td>98.03  </td><td>87.89      </td><td>s     </td></tr>\n",
       "<tr><td><i style='opacity: 0.6'>5,314,515</i></td><td>83.06  </td><td>167.81     </td><td>s     </td></tr>\n",
       "<tr><td><i style='opacity: 0.6'>5,314,516</i></td><td>91.04  </td><td>104.61     </td><td>s     </td></tr>\n",
       "<tr><td><i style='opacity: 0.6'>5,314,517</i></td><td>93.61  </td><td>155.02     </td><td>s     </td></tr>\n",
       "</tbody>\n",
       "</table>"
      ],
      "text/plain": [
       "#          value    backvalue    sign\n",
       "0          88.33    131.05       s\n",
       "1          98.66    95.69        s\n",
       "2          35.03    70.9         s\n",
       "3          99.09    79.79        s\n",
       "4          82.09    143.5        s\n",
       "...        ...      ...          ...\n",
       "5,314,513  91.29    62.59        s\n",
       "5,314,514  98.03    87.89        s\n",
       "5,314,515  83.06    167.81       s\n",
       "5,314,516  91.04    104.61       s\n",
       "5,314,517  93.61    155.02       s"
      ]
     },
     "metadata": {},
     "output_type": "display_data"
    },
    {
     "name": "stdout",
     "output_type": "stream",
     "text": [
      "--- 10.09101414680481 seconds ---\n"
     ]
    }
   ],
   "source": [
    "#start_time = time.time()\n",
    "#df = vaex.from_csv('assets/annotation_example4.csv')\n",
    "#\n",
    "#df = df['value', 'backvalue', 'sign']\n",
    "#print(len(df))\n",
    "#length = len(df)\n",
    "#display(df)\n",
    "#print(\"--- %s seconds ---\" % (time.time() - start_time))\n"
   ]
  },
  {
   "cell_type": "code",
   "execution_count": 4,
   "id": "unable-flesh",
   "metadata": {},
   "outputs": [
    {
     "data": {
      "text/html": [
       "<table>\n",
       "<thead>\n",
       "<tr><th>#                                    </th><th>value  </th><th>back_value  </th><th>sign  </th><th>valueLog          </th><th>backvalueLog      </th><th>signNumber  </th></tr>\n",
       "</thead>\n",
       "<tbody>\n",
       "<tr><td><i style='opacity: 0.6'>0</i>        </td><td>102.48 </td><td>99.97       </td><td>n     </td><td>2.0106814931314436</td><td>1.9999131324165715</td><td>0           </td></tr>\n",
       "<tr><td><i style='opacity: 0.6'>1</i>        </td><td>89.8   </td><td>106.2       </td><td>n     </td><td>1.9533246963891853</td><td>2.0261654088392524</td><td>0           </td></tr>\n",
       "<tr><td><i style='opacity: 0.6'>2</i>        </td><td>91.11  </td><td>104.31      </td><td>n     </td><td>1.9596137110710439</td><td>2.018367578387845 </td><td>0           </td></tr>\n",
       "<tr><td><i style='opacity: 0.6'>3</i>        </td><td>86.9   </td><td>107.12      </td><td>n     </td><td>1.9390697499234244</td><td>2.0299111049124443</td><td>0           </td></tr>\n",
       "<tr><td><i style='opacity: 0.6'>4</i>        </td><td>88.18  </td><td>100.59      </td><td>n     </td><td>1.9454193426030633</td><td>2.0025979807199086</td><td>0           </td></tr>\n",
       "<tr><td>...                                  </td><td>...    </td><td>...         </td><td>...   </td><td>...               </td><td>...               </td><td>...         </td></tr>\n",
       "<tr><td><i style='opacity: 0.6'>3,985,277</i></td><td>90.98  </td><td>104.34      </td><td>n     </td><td>1.958993665030326 </td><td>2.018492453401473 </td><td>0           </td></tr>\n",
       "<tr><td><i style='opacity: 0.6'>3,985,278</i></td><td>103.84 </td><td>110.09      </td><td>n     </td><td>2.016406500871118 </td><td>2.041787318971752 </td><td>0           </td></tr>\n",
       "<tr><td><i style='opacity: 0.6'>3,985,279</i></td><td>109.63 </td><td>100.68      </td><td>n     </td><td>2.039969026867461 </td><td>2.002986340856785 </td><td>0           </td></tr>\n",
       "<tr><td><i style='opacity: 0.6'>3,985,280</i></td><td>100.13 </td><td>101.13      </td><td>n     </td><td>2.0006075870628903</td><td>2.004922949296526 </td><td>0           </td></tr>\n",
       "<tr><td><i style='opacity: 0.6'>3,985,281</i></td><td>125.69 </td><td>86.37       </td><td>n     </td><td>2.0993352776859577</td><td>1.9364131997114797</td><td>0           </td></tr>\n",
       "</tbody>\n",
       "</table>"
      ],
      "text/plain": [
       "#          value    back_value    sign    valueLog            backvalueLog        signNumber\n",
       "0          102.48   99.97         n       2.0106814931314436  1.9999131324165715  0\n",
       "1          89.8     106.2         n       1.9533246963891853  2.0261654088392524  0\n",
       "2          91.11    104.31        n       1.9596137110710439  2.018367578387845   0\n",
       "3          86.9     107.12        n       1.9390697499234244  2.0299111049124443  0\n",
       "4          88.18    100.59        n       1.9454193426030633  2.0025979807199086  0\n",
       "...        ...      ...           ...     ...                 ...                 ...\n",
       "3,985,277  90.98    104.34        n       1.958993665030326   2.018492453401473   0\n",
       "3,985,278  103.84   110.09        n       2.016406500871118   2.041787318971752   0\n",
       "3,985,279  109.63   100.68        n       2.039969026867461   2.002986340856785   0\n",
       "3,985,280  100.13   101.13        n       2.0006075870628903  2.004922949296526   0\n",
       "3,985,281  125.69   86.37         n       2.0993352776859577  1.9364131997114797  0"
      ]
     },
     "metadata": {},
     "output_type": "display_data"
    },
    {
     "name": "stdout",
     "output_type": "stream",
     "text": [
      "--- 6.459022283554077 seconds ---\n"
     ]
    }
   ],
   "source": [
    "start_time = time.time()\n",
    "@vaex.register_function()\n",
    "def signToNumber(s):\n",
    "    return ['n','z','p','s','f'].index(s)\n",
    "\n",
    "df['signNumber'] = df.apply(signToNumber, arguments=[df.sign])\n",
    "df = df[df.signNumber !=  4]\n",
    "display(df)\n",
    "\n",
    "print(\"--- %s seconds ---\" % (time.time() - start_time))"
   ]
  },
  {
   "cell_type": "code",
   "execution_count": 5,
   "id": "electrical-review",
   "metadata": {},
   "outputs": [
    {
     "data": {
      "text/html": [
       "<table>\n",
       "<thead>\n",
       "<tr><th>#                                    </th><th>value  </th><th>back_value  </th><th>sign  </th><th>signNumber  </th><th>valueLog          </th><th>backvalueLog      </th></tr>\n",
       "</thead>\n",
       "<tbody>\n",
       "<tr><td><i style='opacity: 0.6'>0</i>        </td><td>65.05  </td><td>50.57       </td><td>s     </td><td>3           </td><td>4.1751562049585145</td><td>3.9233585150918917</td></tr>\n",
       "<tr><td><i style='opacity: 0.6'>1</i>        </td><td>80.39  </td><td>120.1       </td><td>s     </td><td>3           </td><td>4.386889790339869 </td><td>4.788324729085938 </td></tr>\n",
       "<tr><td><i style='opacity: 0.6'>2</i>        </td><td>98.83  </td><td>97.27       </td><td>s     </td><td>3           </td><td>4.593401202388092 </td><td>4.577490616881349 </td></tr>\n",
       "<tr><td><i style='opacity: 0.6'>3</i>        </td><td>119.92 </td><td>124.45      </td><td>s     </td><td>3           </td><td>4.786824853794342 </td><td>4.823904028813601 </td></tr>\n",
       "<tr><td><i style='opacity: 0.6'>4</i>        </td><td>94.73  </td><td>81.88       </td><td>s     </td><td>3           </td><td>4.551030739887443 </td><td>4.405254760793088 </td></tr>\n",
       "<tr><td>...                                  </td><td>...    </td><td>...         </td><td>...   </td><td>...         </td><td>...               </td><td>...               </td></tr>\n",
       "<tr><td><i style='opacity: 0.6'>4,036,691</i></td><td>108.0  </td><td>86.16       </td><td>s     </td><td>3           </td><td>4.68213122712422  </td><td>4.456206032848133 </td></tr>\n",
       "<tr><td><i style='opacity: 0.6'>4,036,692</i></td><td>99.36  </td><td>80.8        </td><td>s     </td><td>3           </td><td>4.598749618185169 </td><td>4.39197696552705  </td></tr>\n",
       "<tr><td><i style='opacity: 0.6'>4,036,693</i></td><td>78.83  </td><td>58.85       </td><td>s     </td><td>3           </td><td>4.367293635071817 </td><td>4.074991833706286 </td></tr>\n",
       "<tr><td><i style='opacity: 0.6'>4,036,694</i></td><td>122.61 </td><td>104.87      </td><td>s     </td><td>3           </td><td>4.809008586244295 </td><td>4.652721487846314 </td></tr>\n",
       "<tr><td><i style='opacity: 0.6'>4,036,695</i></td><td>307.19 </td><td>102.95      </td><td>s     </td><td>3           </td><td>5.727466448660353 </td><td>4.634243433473799 </td></tr>\n",
       "</tbody>\n",
       "</table>"
      ],
      "text/plain": [
       "#          value    back_value    sign    signNumber    valueLog            backvalueLog\n",
       "0          65.05    50.57         s       3             4.1751562049585145  3.9233585150918917\n",
       "1          80.39    120.1         s       3             4.386889790339869   4.788324729085938\n",
       "2          98.83    97.27         s       3             4.593401202388092   4.577490616881349\n",
       "3          119.92   124.45        s       3             4.786824853794342   4.823904028813601\n",
       "4          94.73    81.88         s       3             4.551030739887443   4.405254760793088\n",
       "...        ...      ...           ...     ...           ...                 ...\n",
       "4,036,691  108.0    86.16         s       3             4.68213122712422    4.456206032848133\n",
       "4,036,692  99.36    80.8          s       3             4.598749618185169   4.39197696552705\n",
       "4,036,693  78.83    58.85         s       3             4.367293635071817   4.074991833706286\n",
       "4,036,694  122.61   104.87        s       3             4.809008586244295   4.652721487846314\n",
       "4,036,695  307.19   102.95        s       3             5.727466448660353   4.634243433473799"
      ]
     },
     "metadata": {},
     "output_type": "display_data"
    },
    {
     "name": "stdout",
     "output_type": "stream",
     "text": [
      "--- 0.09100508689880371 seconds ---\n"
     ]
    }
   ],
   "source": [
    "#start_time = time.time()\n",
    "#@vaex.register_function()\n",
    "#def log(v):\n",
    "#    if v < 0.1:\n",
    "#        return np.log(0.1)\n",
    "#    return np.log(v)\n",
    "\n",
    "#df['valueLog'] = df.apply(log, arguments=[df.value])\n",
    "#df['backvalueLog'] = df.apply(log, arguments=[df.back_value])\n",
    "#df.execute()\n",
    "#display(df)\n",
    "\n",
    "#print(\"--- %s seconds ---\" % (time.time() - start_time))"
   ]
  },
  {
   "cell_type": "code",
   "execution_count": 5,
   "id": "increased-independence",
   "metadata": {},
   "outputs": [
    {
     "data": {
      "text/html": [
       "<table>\n",
       "<thead>\n",
       "<tr><th>#                            </th><th style=\"text-align: right;\">  signNumber</th><th style=\"text-align: right;\">           count</th></tr>\n",
       "</thead>\n",
       "<tbody>\n",
       "<tr><td><i style='opacity: 0.6'>0</i></td><td style=\"text-align: right;\">           3</td><td style=\"text-align: right;\">     3.19848e+06</td></tr>\n",
       "<tr><td><i style='opacity: 0.6'>1</i></td><td style=\"text-align: right;\">           0</td><td style=\"text-align: right;\">778292          </td></tr>\n",
       "<tr><td><i style='opacity: 0.6'>2</i></td><td style=\"text-align: right;\">           2</td><td style=\"text-align: right;\">  6144          </td></tr>\n",
       "<tr><td><i style='opacity: 0.6'>3</i></td><td style=\"text-align: right;\">           1</td><td style=\"text-align: right;\">  2368          </td></tr>\n",
       "</tbody>\n",
       "</table>"
      ],
      "text/plain": [
       "  #    signNumber             count\n",
       "  0             3       3.19848e+06\n",
       "  1             0  778292\n",
       "  2             2    6144\n",
       "  3             1    2368"
      ]
     },
     "metadata": {},
     "output_type": "display_data"
    },
    {
     "name": "stdout",
     "output_type": "stream",
     "text": [
      "--- 12.705034732818604 seconds ---\n"
     ]
    }
   ],
   "source": [
    "start_time = time.time()\n",
    "\n",
    "# count signs:\n",
    "display(df.groupby(by='signNumber').agg({'signNumber': 'count'}))\n",
    "print(\"--- %s seconds ---\" % (time.time() - start_time))"
   ]
  },
  {
   "cell_type": "code",
   "execution_count": 34,
   "id": "virtual-vocabulary",
   "metadata": {},
   "outputs": [
    {
     "name": "stdout",
     "output_type": "stream",
     "text": [
      "--- 0.0 seconds ---\n"
     ]
    }
   ],
   "source": [
    "#start_time = time.time()\n",
    "\n",
    "#def valuesWithinMeanPM3Std(d)-> vaex.dataframe.DataFrameArrays:\n",
    "#    start_time = time.time()\n",
    "\n",
    "#    stdValue = d.std('value')\n",
    " #   stdBackvalue = d.std('backvalue')\n",
    "  #  meanValue = d.mean('value')\n",
    "   # meanBackvalue = d.mean('backvalue')\n",
    "    #meanPlusMinus3StdValue = (meanValue-3*stdValue, meanValue +3*stdValue)\n",
    "    #meanPlusMinus3StdBackvalue = (meanBackvalue -3*stdBackvalue, meanBackvalue +3*stdBackvalue)\n",
    "    #CleansedWith3Std = d[(d['value'] <= meanPlusMinus3StdValue[1] )& (d['value'] >= meanPlusMinus3StdValue[0])& (d['backvalue'] <= meanPlusMinus3StdBackvalue[1]) & (d['backvalue'] >= meanPlusMinus3StdBackvalue[0])]\n",
    "    #print(len(d))\n",
    "    #print(len(CleansedWith3Std))\n",
    "    #print(\"reduced to \" +str(100*len(CleansedWith3Std)/len(d)) +\"%\")\n",
    "    #print(\"--- %s seconds ---\" % (time.time() - start_time))\n",
    "    #return CleansedWith3Std\n",
    "#print(\"--- %s seconds ---\" % (time.time() - start_time))"
   ]
  },
  {
   "cell_type": "code",
   "execution_count": 6,
   "id": "distinct-english",
   "metadata": {},
   "outputs": [
    {
     "name": "stdout",
     "output_type": "stream",
     "text": [
      "<class 'vaex.dataframe.DataFrameArrays'>\n",
      "--- 0.010000228881835938 seconds ---\n"
     ]
    }
   ],
   "source": [
    "start_time = time.time()\n",
    "\n",
    "\n",
    "dfn = df[df.signNumber == 0]\n",
    "#dfn = valuesWithinMeanPM3Std(dfn)\n",
    "\n",
    "dfz = df[df.signNumber == 1]\n",
    "#dfz = valuesWithinMeanPM3Std(dfz)\n",
    "\n",
    "dfp = df[df.signNumber == 2]\n",
    "#dfp = valuesWithinMeanPM3Std(dfp)\n",
    "#dfp = dfp[dfp.backvalue < 800]\n",
    "#print(\"further reduced to length: \" +str(len(dfp)))\n",
    "\n",
    "dfs = df[df.signNumber == 3]\n",
    "#dfs = valuesWithinMeanPM3Std(dfs)\n",
    "\n",
    "#df = dfn.concat(dfz)\n",
    "#df = df.concat(dfp)\n",
    "#df = df.concat(dfs)\n",
    "#df = vaex.concat([dfn,dfz,dfp,dfs])\n",
    "print(type(df))\n",
    "#print(type(df))\n",
    "\n",
    "print(\"--- %s seconds ---\" % (time.time() - start_time))"
   ]
  },
  {
   "cell_type": "code",
   "execution_count": 59,
   "id": "aboriginal-narrative",
   "metadata": {},
   "outputs": [],
   "source": []
  },
  {
   "cell_type": "code",
   "execution_count": 7,
   "id": "naughty-court",
   "metadata": {},
   "outputs": [
    {
     "name": "stdout",
     "output_type": "stream",
     "text": [
      "<class 'vaex.dataframe.DataFrameArrays'>\n"
     ]
    },
    {
     "data": {
      "text/html": [
       "<table>\n",
       "<thead>\n",
       "<tr><th>#                                    </th><th>value  </th><th>back_value  </th><th>sign  </th><th>valueLog          </th><th>backvalueLog      </th><th>signNumber  </th></tr>\n",
       "</thead>\n",
       "<tbody>\n",
       "<tr><td><i style='opacity: 0.6'>0</i>        </td><td>102.48 </td><td>99.97       </td><td>n     </td><td>2.0106814931314436</td><td>1.9999131324165715</td><td>0           </td></tr>\n",
       "<tr><td><i style='opacity: 0.6'>1</i>        </td><td>89.8   </td><td>106.2       </td><td>n     </td><td>1.9533246963891853</td><td>2.0261654088392524</td><td>0           </td></tr>\n",
       "<tr><td><i style='opacity: 0.6'>2</i>        </td><td>91.11  </td><td>104.31      </td><td>n     </td><td>1.9596137110710439</td><td>2.018367578387845 </td><td>0           </td></tr>\n",
       "<tr><td><i style='opacity: 0.6'>3</i>        </td><td>86.9   </td><td>107.12      </td><td>n     </td><td>1.9390697499234244</td><td>2.0299111049124443</td><td>0           </td></tr>\n",
       "<tr><td><i style='opacity: 0.6'>4</i>        </td><td>88.18  </td><td>100.59      </td><td>n     </td><td>1.9454193426030633</td><td>2.0025979807199086</td><td>0           </td></tr>\n",
       "<tr><td>...                                  </td><td>...    </td><td>...         </td><td>...   </td><td>...               </td><td>...               </td><td>...         </td></tr>\n",
       "<tr><td><i style='opacity: 0.6'>3,899,884</i></td><td>90.98  </td><td>104.34      </td><td>n     </td><td>1.958993665030326 </td><td>2.018492453401473 </td><td>0           </td></tr>\n",
       "<tr><td><i style='opacity: 0.6'>3,899,885</i></td><td>103.84 </td><td>110.09      </td><td>n     </td><td>2.016406500871118 </td><td>2.041787318971752 </td><td>0           </td></tr>\n",
       "<tr><td><i style='opacity: 0.6'>3,899,886</i></td><td>109.63 </td><td>100.68      </td><td>n     </td><td>2.039969026867461 </td><td>2.002986340856785 </td><td>0           </td></tr>\n",
       "<tr><td><i style='opacity: 0.6'>3,899,887</i></td><td>100.13 </td><td>101.13      </td><td>n     </td><td>2.0006075870628903</td><td>2.004922949296526 </td><td>0           </td></tr>\n",
       "<tr><td><i style='opacity: 0.6'>3,899,888</i></td><td>125.69 </td><td>86.37       </td><td>n     </td><td>2.0993352776859577</td><td>1.9364131997114797</td><td>0           </td></tr>\n",
       "</tbody>\n",
       "</table>"
      ],
      "text/plain": [
       "#          value    back_value    sign    valueLog            backvalueLog        signNumber\n",
       "0          102.48   99.97         n       2.0106814931314436  1.9999131324165715  0\n",
       "1          89.8     106.2         n       1.9533246963891853  2.0261654088392524  0\n",
       "2          91.11    104.31        n       1.9596137110710439  2.018367578387845   0\n",
       "3          86.9     107.12        n       1.9390697499234244  2.0299111049124443  0\n",
       "4          88.18    100.59        n       1.9454193426030633  2.0025979807199086  0\n",
       "...        ...      ...           ...     ...                 ...                 ...\n",
       "3,899,884  90.98    104.34        n       1.958993665030326   2.018492453401473   0\n",
       "3,899,885  103.84   110.09        n       2.016406500871118   2.041787318971752   0\n",
       "3,899,886  109.63   100.68        n       2.039969026867461   2.002986340856785   0\n",
       "3,899,887  100.13   101.13        n       2.0006075870628903  2.004922949296526   0\n",
       "3,899,888  125.69   86.37         n       2.0993352776859577  1.9364131997114797  0"
      ]
     },
     "metadata": {},
     "output_type": "display_data"
    },
    {
     "name": "stdout",
     "output_type": "stream",
     "text": [
      "--- 51.843101024627686 seconds ---\n"
     ]
    }
   ],
   "source": [
    "start_time = time.time()\n",
    "# in manchen datensätzen heißt die spalte backvalue, in manchen back_value, hier anpassen\n",
    "v = 'value'\n",
    "b = 'back_value'\n",
    "df = df[((((df['signNumber'] == 0) \n",
    "          & (df[v] < dfn.mean(v)+3*dfn.std(v)) \n",
    "          & (df[v] > dfn.mean(v)-3*dfn.std(v))) \n",
    "         & ((df[b] < dfn.mean(b)+3*dfn.std(b)) \n",
    "            & (df[b] > dfn.mean(b)-3*dfn.std(b)))) \n",
    "        | (((df['signNumber'] == 1) \n",
    "            & (df[v] < dfz.mean(v)+3*dfz.std(v)) \n",
    "            & (df[v] > dfz.mean(v)-3*dfz.std(v))) \n",
    "           & ((df[b] < dfz.mean(b)+3*dfz.std(b)) \n",
    "              & (df[b] > dfz.mean(b)-3*dfz.std(b))))\n",
    "        | (((df['signNumber'] == 2) \n",
    "            & (df[v] < dfp.mean(v)+3*dfp.std(v)) \n",
    "            & (df[v] > dfp.mean(v)-3*dfp.std(v)))\n",
    "           & ((df[b] < dfp.mean(b)+3*dfp.std(b)) \n",
    "              & (df[b] > dfp.mean(b)-3*dfp.std(b)) \n",
    "              & (df[b] < 800)))\n",
    "        | (((df['signNumber'] == 3) \n",
    "            & (df[v] < dfs.mean(v)+3*dfs.std(v)) \n",
    "            & (df[v] > dfs.mean(v)-3*dfs.std(v)))\n",
    "           & ((df[b] < dfs.mean(b)+3*dfs.std(b)) \n",
    "              & (df[b] > dfs.mean(b)-3*dfs.std(b)))))]\n",
    "print(type(df))\n",
    "display(df)\n",
    "print(\"--- %s seconds ---\" % (time.time() - start_time))"
   ]
  },
  {
   "cell_type": "code",
   "execution_count": 16,
   "id": "deadly-integral",
   "metadata": {
    "scrolled": true
   },
   "outputs": [
    {
     "data": {
      "image/png": "[encoded data removed]",
      "text/plain": [
       "<Figure size 432x288 with 1 Axes>"
      ]
     },
     "metadata": {
      "needs_background": "light"
     },
     "output_type": "display_data"
    },
    {
     "name": "stdout",
     "output_type": "stream",
     "text": [
      "--- 3.936225175857544 seconds ---\n"
     ]
    }
   ],
   "source": [
    "start_time = time.time()\n",
    "# substanzen\n",
    "df.scatter(df.backvalueLog, df.valueLog,selection=df.sign == 's', c=\"red\", alpha=0.5, s=4., length_check = False)\n",
    "# neutral \n",
    "df.scatter(df.backvalueLog, df.valueLog,selection=df.sign == 'n', c=\"yellow\", alpha=0.5, s=4., length_check = False)\n",
    "# negativ\n",
    "df.scatter(df.backvalueLog, df.valueLog,selection=df.sign == 'z', c=\"purple\", alpha=0.5, s=4., length_check = False)\n",
    "#positiv\n",
    "df.scatter(df.backvalueLog, df.valueLog,selection=df.sign == 'p', c=\"cyan\", alpha=0.5, s=4., length_check = False)\n",
    "plt.show()\n",
    "print(\"--- %s seconds ---\" % (time.time() - start_time))"
   ]
  },
  {
   "cell_type": "code",
   "execution_count": 27,
   "id": "bound-disclosure",
   "metadata": {
    "scrolled": true,
    "slideshow": {
     "slide_type": "-"
    }
   },
   "outputs": [
    {
     "name": "stdout",
     "output_type": "stream",
     "text": [
      "--- 3.1481800079345703 seconds ---\n"
     ]
    },
    {
     "data": {
      "image/png": "[encoded data removed]",
      "text/plain": [
       "<Figure size 1008x288 with 4 Axes>"
      ]
     },
     "metadata": {
      "needs_background": "light"
     },
     "output_type": "display_data"
    }
   ],
   "source": [
    "start_time = time.time()\n",
    "# in manchen datensätzen heißt die spalte backvalue, in manchen back_value, hier anpassen\n",
    "\n",
    "fig, (ax1, ax2, ax3, ax4) = plt.subplots(1, 4, figsize=(14,4))\n",
    "plt.sca(ax1)\n",
    "df3.scatter(df.value, df.backvalue,selection=df.sign == 's', c=\"red\", alpha=0.5, s=4., length_check = False)\n",
    "plt.sca(ax2)\n",
    "df3.scatter(df.value, df.backvalue,selection=df.sign == 'n', c=\"yellow\", alpha=0.5, s=4., length_check = False)\n",
    "plt.sca(ax3)\n",
    "df3.scatter(df.value, df.backvalue,selection=df.sign == 'z', c=\"purple\", alpha=0.5, s=4., length_check = False)\n",
    "plt.sca(ax4)\n",
    "df3.scatter(df.value, df.backvalue,selection=df.sign == 'p', c=\"cyan\", alpha=0.5, s=4., length_check = False)\n",
    "print(\"--- %s seconds ---\" % (time.time() - start_time))"
   ]
  },
  {
   "cell_type": "code",
   "execution_count": null,
   "id": "attached-speaker",
   "metadata": {},
   "outputs": [],
   "source": [
    "#df =df3.to_pandas_df([\"value\", \"backvalue\",\"signNumber\"])"
   ]
  },
  {
   "cell_type": "code",
   "execution_count": null,
   "id": "pacific-intent",
   "metadata": {},
   "outputs": [],
   "source": [
    "#start_time = time.time()\n",
    "#sns.jointplot(\n",
    "#    data=df, x=\"value\", y=\"backvalue\",\n",
    "#    marker=\"+\", s=100, marginal_kws=dict(bins=25, fill=False),hue=\"signNumber\"\n",
    "#)\n",
    "#print(\"--- %s seconds ---\" % (time.time() - start_time))"
   ]
  },
  {
   "cell_type": "code",
   "execution_count": 21,
   "id": "starting-carrier",
   "metadata": {
    "scrolled": false
   },
   "outputs": [
    {
     "data": {
      "application/vnd.jupyter.widget-view+json": {
       "model_id": "672cf1cbd0ab4752bd5f395149bdb8b9",
       "version_major": 2,
       "version_minor": 0
      },
      "text/plain": [
       "Heatmap(children=[ToolsToolbar(interact_value=None, supports_normalize=False, template='<template>\\n  <v-toolb…"
      ]
     },
     "metadata": {},
     "output_type": "display_data"
    },
    {
     "data": {
      "application/vnd.jupyter.widget-view+json": {
       "model_id": "ee0d9ae5913243878f97d64029c42027",
       "version_major": 2,
       "version_minor": 0
      },
      "text/plain": [
       "Heatmap(children=[ToolsToolbar(interact_value=None, supports_normalize=False, template='<template>\\n  <v-toolb…"
      ]
     },
     "metadata": {},
     "output_type": "display_data"
    },
    {
     "data": {
      "application/vnd.jupyter.widget-view+json": {
       "model_id": "19640b2a2f4e4f2d99938ab7ce06d697",
       "version_major": 2,
       "version_minor": 0
      },
      "text/plain": [
       "ExpressionSelectionTextArea(error_messages=\"Column or variable 'default' does not exist.\", label='Filter by cu…"
      ]
     },
     "metadata": {},
     "output_type": "display_data"
    }
   ],
   "source": [
    "selection_widget = df.widget.selection_expression('default')\n",
    "await vaex.jupyter.gather()\n",
    "\n",
    "display(df[df['sign'] == 'n'].widget.heatmap('backvalueLog', 'valueLog', selection=[None, True,selection_widget], selection_interact='default', colorbar= True))\n",
    "await vaex.jupyter.gather()\n",
    "\n",
    "display(df[df['sign'] == 's'].widget.heatmap('backvalueLog','valueLog', selection=[None, True, selection_widget], selection_interact='default',colorbar= True))\n",
    "await vaex.jupyter.gather()\n",
    "\n",
    "display(selection_widget)\n",
    "\n",
    "await vaex.jupyter.gather()\n"
   ]
  },
  {
   "cell_type": "code",
   "execution_count": 22,
   "id": "overall-mount",
   "metadata": {},
   "outputs": [
    {
     "data": {
      "application/vnd.jupyter.widget-view+json": {
       "model_id": "466456fdfdb2421eb3a07bdfeb7a93f2",
       "version_major": 2,
       "version_minor": 0
      },
      "text/plain": [
       "Heatmap(children=[ToolsToolbar(interact_value=None, supports_normalize=False, template='<template>\\n  <v-toolb…"
      ]
     },
     "metadata": {},
     "output_type": "display_data"
    },
    {
     "data": {
      "application/vnd.jupyter.widget-view+json": {
       "model_id": "3ddc3c463989476486e8934c49cc2ab1",
       "version_major": 2,
       "version_minor": 0
      },
      "text/plain": [
       "Heatmap(children=[ToolsToolbar(interact_value=None, supports_normalize=False, template='<template>\\n  <v-toolb…"
      ]
     },
     "metadata": {},
     "output_type": "display_data"
    },
    {
     "data": {
      "application/vnd.jupyter.widget-view+json": {
       "model_id": "19640b2a2f4e4f2d99938ab7ce06d697",
       "version_major": 2,
       "version_minor": 0
      },
      "text/plain": [
       "ExpressionSelectionTextArea(error_messages=\"Column or variable 'default' does not exist.\", label='Filter by cu…"
      ]
     },
     "metadata": {},
     "output_type": "display_data"
    }
   ],
   "source": [
    "display(df[df['sign'] == 'z'].widget.heatmap('backvalueLog','valueLog', selection=[None, True, selection_widget], selection_interact='default',colorbar= True))\n",
    "await vaex.jupyter.gather()\n",
    "\n",
    "display(df[df['sign'] == 'p'].widget.heatmap('backvalueLog','valueLog', selection=[None, True, selection_widget], selection_interact='default',colorbar= True))\n",
    "await vaex.jupyter.gather()\n",
    "\n",
    "display(selection_widget)\n"
   ]
  },
  {
   "cell_type": "code",
   "execution_count": 23,
   "id": "headed-morgan",
   "metadata": {
    "scrolled": false
   },
   "outputs": [
    {
     "data": {
      "application/vnd.jupyter.widget-view+json": {
       "model_id": "f3214d9fc3e84a40a3add57341b29279",
       "version_major": 2,
       "version_minor": 0
      },
      "text/plain": [
       "Histogram(children=[ToolsToolbar(interact_items=[{'value': 'pan-zoom', 'icon': 'pan_tool', 'tooltip': 'Pan & z…"
      ]
     },
     "metadata": {},
     "output_type": "display_data"
    }
   ],
   "source": [
    "\n",
    "histogram = df.widget.histogram(df.signNumber,  selection=[None, True, selection_widget], selection_interact='default',limits=[-1, 4])\n",
    "histogram.tool = 'select-x'\n",
    "await vaex.jupyter.gather()\n",
    "\n",
    "display(histogram)\n"
   ]
  },
  {
   "cell_type": "code",
   "execution_count": null,
   "id": "dynamic-corner",
   "metadata": {
    "scrolled": true
   },
   "outputs": [],
   "source": [
    "start_time = time.time()\n",
    "# benutzeranleitung: diese Zeile und die darunterliegende ausführen, \n",
    "# dann irgendwas in dem darunterliegenden histogramm markieren, damit die verknüpfung zwischen den plots hergestellt wird\n",
    "# dann die zeile unter dem histogramm ausführen, um die säulendiagramme zu erhalten \n",
    "# (diese müssen bei jeder markierung neu manuell ausgeführt werden, zur zeit unklar, ob automatisch möglich)\n",
    "# falls statt der grafischen Oberfläche das selection widget (die zeile unter dem plot) benutzt werden möchte kann bsp über folgenden Syntax eine Auswahl getroffen werden:\n",
    "# (signNumber == 1) & (valueLog > 1.5) & (backvalueLog > 1)\n",
    "selection_widget = df.widget.selection_expression('default')\n",
    "\n",
    "display(df.widget.heatmap('backvalueLog','valueLog', selection=[None, True, selection_widget], selection_interact='default',colorbar= True))\n",
    "await vaex.jupyter.gather()\n",
    "display(selection_widget)\n",
    "print(\"--- %s seconds ---\" % (time.time() - start_time))"
   ]
  },
  {
   "cell_type": "code",
   "execution_count": 19,
   "id": "korean-color",
   "metadata": {},
   "outputs": [
    {
     "data": {
      "application/vnd.jupyter.widget-view+json": {
       "model_id": "3f99026ac95a40f78318f5d29838e21d",
       "version_major": 2,
       "version_minor": 0
      },
      "text/plain": [
       "Histogram(children=[ToolsToolbar(interact_items=[{'value': 'pan-zoom', 'icon': 'pan_tool', 'tooltip': 'Pan & z…"
      ]
     },
     "metadata": {},
     "output_type": "display_data"
    }
   ],
   "source": [
    "await vaex.jupyter.gather()\n",
    "histogram = df.widget.histogram(df.signNumber,  selection=[None, True, selection_widget], selection_interact='default',limits=[-1, 4])\n",
    "histogram.tool = 'select-x'\n",
    "histogram"
   ]
  },
  {
   "cell_type": "code",
   "execution_count": 33,
   "id": "friendly-transmission",
   "metadata": {},
   "outputs": [
    {
     "name": "stdout",
     "output_type": "stream",
     "text": [
      "[[      0       0       0       0       0       0       0       0       0\n",
      "        0       0       0  766475       0       0       0       0       0\n",
      "        0       0       0       0       0       0       0    2368       0\n",
      "        0       0       0       0       0       0       0       0       0\n",
      "        0       0    6144       0       0       0       0       0       0\n",
      "        0       0       0       0       0       0 3124902       0       0\n",
      "        0       0       0       0       0       0       0       0       0\n",
      "        0]\n",
      " [      0       0       0       0       0       0       0       0       0\n",
      "        0       0       0  766475       0       0       0       0       0\n",
      "        0       0       0       0       0       0       0    2368       0\n",
      "        0       0       0       0       0       0       0       0       0\n",
      "        0       0       0       0       0       0       0       0       0\n",
      "        0       0       0       0       0       0       0       0       0\n",
      "        0       0       0       0       0       0       0       0       0\n",
      "        0]]\n",
      "[13.54955736097606, 7.769800996003896, 8.723231274827508, 14.954913480660904]\n",
      "[13.54955736097606, 7.769800996003896, 0, 0]\n",
      "   x      total  selection\n",
      "0  0  13.549557  13.549557\n",
      "1  1   7.769801   7.769801\n",
      "2  2   8.723231   0.000000\n",
      "3  3  14.954913   0.000000\n"
     ]
    },
    {
     "name": "stderr",
     "output_type": "stream",
     "text": [
      "C:\\Users\\Buffel\\anaconda3\\lib\\site-packages\\ipykernel_launcher.py:7: RuntimeWarning: divide by zero encountered in log\n",
      "  import sys\n"
     ]
    },
    {
     "data": {
      "image/png": "[encoded data removed]",
      "text/plain": [
       "<Figure size 2880x595.44 with 1 Axes>"
      ]
     },
     "metadata": {},
     "output_type": "display_data"
    },
    {
     "data": {
      "image/png": "[encoded data removed]",
      "text/plain": [
       "<Figure size 2880x595.44 with 1 Axes>"
      ]
     },
     "metadata": {},
     "output_type": "display_data"
    }
   ],
   "source": [
    "# muss bei jeder selektion manuell neu ausgeführt werden\n",
    "chart_data = histogram.children[2].marks[0].y\n",
    "print(chart_data)\n",
    "indexes = [np.where(chart_data[0] == y)[0][0] for y in chart_data[0] if y != 0]\n",
    "y1 = [np.log(chart_data[0][i]) for i in indexes]\n",
    "y2 = [(np.log(chart_data[1][i]),0)[int(chart_data[1][i] < 0.1)] for i in indexes]\n",
    "print(y1)\n",
    "print(y2)\n",
    "d = {'x': [str(x) for x in range(len(y1))], 'total': y1, 'selection': y2}\n",
    "\n",
    "dfbar = pd.DataFrame(data=d)\n",
    "#print(y1)\n",
    "#print(y2)\n",
    "print(dfbar)\n",
    "\n",
    "sns.set_theme(style=\"whitegrid\")\n",
    "a4_dims = (40, 8.27)\n",
    "fig, ax = plt.subplots(figsize=a4_dims)\n",
    "ax = sns.barplot(x=\"selection\", y=\"x\", data=dfbar)\n",
    "plt.show()\n",
    "\n",
    "fig, ax = plt.subplots(figsize=a4_dims)\n",
    "ax = sns.barplot(x=\"total\", y=\"x\", data=dfbar)"
   ]
  },
  {
   "cell_type": "code",
   "execution_count": null,
   "id": "after-sunglasses",
   "metadata": {},
   "outputs": [],
   "source": []
  }
 ],
 "metadata": {
  "celltoolbar": "Raw Cell Format",
  "kernelspec": {
   "display_name": "Python 3",
   "language": "python",
   "name": "python3"
  },
  "language_info": {
   "codemirror_mode": {
    "name": "ipython",
    "version": 3
   },
   "file_extension": ".py",
   "mimetype": "text/x-python",
   "name": "python",
   "nbconvert_exporter": "python",
   "pygments_lexer": "ipython3",
   "version": "3.7.9"
  }
 },
 "nbformat": 4,
 "nbformat_minor": 5
}
