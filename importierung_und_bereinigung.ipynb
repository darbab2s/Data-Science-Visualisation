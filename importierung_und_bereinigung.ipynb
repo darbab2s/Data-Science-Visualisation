{
 "cells": [
  {
   "cell_type": "markdown",
   "id": "infinite-convention",
   "metadata": {},
   "source": [
    "# Resultierende Implementierung"
   ]
  },
  {
   "cell_type": "markdown",
   "id": "reverse-draft",
   "metadata": {},
   "source": [
    "## Hier finden die Imports statt."
   ]
  },
  {
   "cell_type": "code",
   "execution_count": 2,
   "id": "hearing-fashion",
   "metadata": {},
   "outputs": [],
   "source": [
    "import math\n",
    "import numpy as np\n",
    "import random as rd\n",
    "import pandas as pd\n",
    "from scipy import stats \n",
    "\n",
    "import matplotlib.pyplot as plt\n",
    "import matplotlib as mat\n",
    "import holoviews as hv\n",
    "\n",
    "import vaex as vaex\n",
    "import vaex.jupyter.model as vjm\n",
    "\n",
    "import seaborn as sns\n",
    "\n",
    "import time"
   ]
  },
  {
   "cell_type": "markdown",
   "id": "baking-access",
   "metadata": {},
   "source": [
    " "
   ]
  },
  {
   "cell_type": "markdown",
   "id": "moved-gilbert",
   "metadata": {},
   "source": [
    " "
   ]
  },
  {
   "cell_type": "markdown",
   "id": "violent-endorsement",
   "metadata": {},
   "source": [
    " "
   ]
  },
  {
   "cell_type": "markdown",
   "id": "christian-malpractice",
   "metadata": {},
   "source": [
    "## Die Daten werden hier eingelesen.\n",
    "###### Mit Übergabe als <class 'vaex.dataframe.DataFrameArrays'> mit Ausgabe der dafür benötigten Zeit\n",
    "\n",
    "Hier wurde die Datei zwar über Pandas importiert, jedoch in Vaex übernommen, da die Vaex eigene Importierung zeitlich mehr benötigt und noch eine größere Nachbereitung als der Import von Pandas bräuchte."
   ]
  },
  {
   "cell_type": "code",
   "execution_count": 3,
   "id": "amazing-tumor",
   "metadata": {},
   "outputs": [
    {
     "name": "stdout",
     "output_type": "stream",
     "text": [
      "Benötigte Systemzeit: 7.806s\n"
     ]
    },
    {
     "data": {
      "text/html": [
       "<table>\n",
       "<thead>\n",
       "<tr><th>#                                    </th><th>pos_id         </th><th>barcode      </th><th>run_id  </th><th>test_date         </th><th>sign  </th><th>value  </th><th>backvalue  </th></tr>\n",
       "</thead>\n",
       "<tbody>\n",
       "<tr><td><i style='opacity: 0.6'>0</i>        </td><td>&#x27;1001200171739&#x27;</td><td>&#x27;100129017HD&#x27;</td><td>10      </td><td>&#x27;2017-07-07 03:07&#x27;</td><td>&#x27;s&#x27;   </td><td>88.33  </td><td>131.05     </td></tr>\n",
       "<tr><td><i style='opacity: 0.6'>1</i>        </td><td>&#x27;1001200171741&#x27;</td><td>&#x27;100129017HD&#x27;</td><td>10      </td><td>&#x27;2017-07-07 03:07&#x27;</td><td>&#x27;s&#x27;   </td><td>98.66  </td><td>95.69      </td></tr>\n",
       "<tr><td><i style='opacity: 0.6'>2</i>        </td><td>&#x27;1001200171742&#x27;</td><td>&#x27;100129017HD&#x27;</td><td>10      </td><td>&#x27;2017-07-07 03:07&#x27;</td><td>&#x27;s&#x27;   </td><td>35.03  </td><td>70.9       </td></tr>\n",
       "<tr><td><i style='opacity: 0.6'>3</i>        </td><td>&#x27;1001200171743&#x27;</td><td>&#x27;100129017HD&#x27;</td><td>10      </td><td>&#x27;2017-07-07 03:07&#x27;</td><td>&#x27;s&#x27;   </td><td>99.09  </td><td>79.79      </td></tr>\n",
       "<tr><td><i style='opacity: 0.6'>4</i>        </td><td>&#x27;1001200171744&#x27;</td><td>&#x27;100129017HD&#x27;</td><td>10      </td><td>&#x27;2017-07-07 03:07&#x27;</td><td>&#x27;s&#x27;   </td><td>82.09  </td><td>143.5      </td></tr>\n",
       "<tr><td>...                                  </td><td>...            </td><td>...          </td><td>...     </td><td>...               </td><td>...   </td><td>...    </td><td>...        </td></tr>\n",
       "<tr><td><i style='opacity: 0.6'>5,314,555</i></td><td>&#x27;1002000172921&#x27;</td><td>&#x27;100209017HD&#x27;</td><td>9       </td><td>&#x27;2017-07-07 09:07&#x27;</td><td>&#x27;s&#x27;   </td><td>88.9   </td><td>128.91     </td></tr>\n",
       "<tr><td><i style='opacity: 0.6'>5,314,556</i></td><td>&#x27;1002401401231&#x27;</td><td>&#x27;100249140HD&#x27;</td><td>9       </td><td>&#x27;2017-07-07 09:07&#x27;</td><td>&#x27;s&#x27;   </td><td>93.52  </td><td>91.56      </td></tr>\n",
       "<tr><td><i style='opacity: 0.6'>5,314,557</i></td><td>&#x27;1002401402813&#x27;</td><td>&#x27;100249140HD&#x27;</td><td>9       </td><td>&#x27;2017-07-07 09:07&#x27;</td><td>&#x27;s&#x27;   </td><td>88.53  </td><td>93.61      </td></tr>\n",
       "<tr><td><i style='opacity: 0.6'>5,314,558</i></td><td>&#x27;1BCS600562415&#x27;</td><td>&#x27;1BCS6Y056LD&#x27;</td><td>16      </td><td>&#x27;2017-08-23 09:08&#x27;</td><td>&#x27;s&#x27;   </td><td>89.24  </td><td>144.05     </td></tr>\n",
       "<tr><td><i style='opacity: 0.6'>5,314,559</i></td><td>&#x27;1002001101220&#x27;</td><td>&#x27;100209110HD&#x27;</td><td>12      </td><td>&#x27;2017-07-13 05:07&#x27;</td><td>&#x27;s&#x27;   </td><td>97.29  </td><td>73.87      </td></tr>\n",
       "</tbody>\n",
       "</table>"
      ],
      "text/plain": [
       "#          pos_id           barcode        run_id    test_date           sign    value    backvalue\n",
       "0          '1001200171739'  '100129017HD'  10        '2017-07-07 03:07'  's'     88.33    131.05\n",
       "1          '1001200171741'  '100129017HD'  10        '2017-07-07 03:07'  's'     98.66    95.69\n",
       "2          '1001200171742'  '100129017HD'  10        '2017-07-07 03:07'  's'     35.03    70.9\n",
       "3          '1001200171743'  '100129017HD'  10        '2017-07-07 03:07'  's'     99.09    79.79\n",
       "4          '1001200171744'  '100129017HD'  10        '2017-07-07 03:07'  's'     82.09    143.5\n",
       "...        ...              ...            ...       ...                 ...     ...      ...\n",
       "5,314,555  '1002000172921'  '100209017HD'  9         '2017-07-07 09:07'  's'     88.9     128.91\n",
       "5,314,556  '1002401401231'  '100249140HD'  9         '2017-07-07 09:07'  's'     93.52    91.56\n",
       "5,314,557  '1002401402813'  '100249140HD'  9         '2017-07-07 09:07'  's'     88.53    93.61\n",
       "5,314,558  '1BCS600562415'  '1BCS6Y056LD'  16        '2017-08-23 09:08'  's'     89.24    144.05\n",
       "5,314,559  '1002001101220'  '100209110HD'  12        '2017-07-13 05:07'  's'     97.29    73.87"
      ]
     },
     "execution_count": 3,
     "metadata": {},
     "output_type": "execute_result"
    }
   ],
   "source": [
    "start_proc = time.process_time()\n",
    "\n",
    "datei = pd.read_csv(\n",
    "    '/Users/samel/Documents/Hochschule/aktuelles Semester/03. Projekt zur Datenanalyse/Datein/annotation_example3.txt',\n",
    "    sep=\";\",\n",
    "    header=0\n",
    "    )\n",
    "\n",
    "datei = datei.rename(\n",
    "    columns={'back_value                           ': 'backvalue'}\n",
    "    )\n",
    "\n",
    "df = vaex.from_pandas(datei)\n",
    "#print(type(daten))\n",
    "\n",
    "ende_proc = time.process_time()\n",
    "print('Benötigte Systemzeit: {:5.3f}s'.format(ende_proc-start_proc))\n",
    "\n",
    "df\n"
   ]
  },
  {
   "cell_type": "markdown",
   "id": "working-georgia",
   "metadata": {},
   "source": [
    " "
   ]
  },
  {
   "cell_type": "markdown",
   "id": "satellite-custom",
   "metadata": {},
   "source": [
    " "
   ]
  },
  {
   "cell_type": "markdown",
   "id": "national-financing",
   "metadata": {},
   "source": [
    " "
   ]
  },
  {
   "cell_type": "markdown",
   "id": "driving-cowboy",
   "metadata": {},
   "source": [
    "## Hier soll die Datei in Kategorien aufgeteilt werden\n",
    "##### Nebenbei wird die Datei der Variable 'df_ohne_f' übergeben, die die Datei ohne die Werte der Kategorie bestehen und verweerden soll."
   ]
  },
  {
   "cell_type": "code",
   "execution_count": 4,
   "id": "higher-belarus",
   "metadata": {},
   "outputs": [
    {
     "name": "stdout",
     "output_type": "stream",
     "text": [
      "Länge des gesamten Datensatzes: 5314560 \n",
      " \n",
      "\n",
      "Länge der Kategorie f: 164522 \n",
      "\n",
      "Länge der Kategorie n: 880350 \n",
      "\n",
      "Länge der Kategorie p: 7744 \n",
      "\n",
      "Länge der Kategorie z: 3872 \n",
      "\n",
      "Länge der Kategorie s: 4258072 \n",
      " \n",
      "\n",
      "Wobei wir die Kategorie 'f' vernachläsigen werden, da es sich hierbei um Gerätefehler handelt:\n",
      "5314560 - 164522  = 5150038\n"
     ]
    }
   ],
   "source": [
    "print('Länge des gesamten Datensatzes:', len(df), '\\n', '\\n')\n",
    "\n",
    "\n",
    "f = df[df.sign == 'f'] # f => failure (ein Problem mit einem der Geräte)\n",
    "print('Länge der Kategorie f:', len(f), '\\n')#, f, '\\n')\n",
    "\n",
    "n = df[df.sign == 'n'] # n => neutral (nur Lösungsmittel, keine Substanz)\n",
    "print('Länge der Kategorie n:', len(n), '\\n')#, n, '\\n')\n",
    "\n",
    "p = df[df.sign == 'p'] # p => positiv (kontrolle mit -max- Effekt, bzw. verschiede Konzentrationen -> DWK)\n",
    "print('Länge der Kategorie p:', len(p), '\\n')#, p, '\\n')\n",
    "\n",
    "z = df[df.sign == 'z'] # z => zero (negative kontrolle, oder zweite kontrolle, ditto)\n",
    "print('Länge der Kategorie z:', len(z), '\\n')#, z, '\\n')\n",
    "\n",
    "s = df[df.sign == 's'] # s => substanz (getestetes kleines chem. Molekül)\n",
    "print('Länge der Kategorie s:', len(s), '\\n', '\\n')#, s, '\\n')\n",
    "\n",
    "\n",
    "print(\"Wobei wir die Kategorie 'f' vernachläsigen werden, da es sich hierbei um Gerätefehler handelt:\")\n",
    "print( len(df), '-' ,len(df[df.sign == 'f']), ' =', len(s) + len(z) + len(p) + len(n))\n"
   ]
  },
  {
   "cell_type": "markdown",
   "id": "victorian-argument",
   "metadata": {},
   "source": [
    "Hier speichern wir alle Werte aus der importierten Datei, die nicht zur Kategorie 'f' angehören, in der Variable 'df_ohne_f'."
   ]
  },
  {
   "cell_type": "code",
   "execution_count": 5,
   "id": "alike-brass",
   "metadata": {},
   "outputs": [
    {
     "name": "stdout",
     "output_type": "stream",
     "text": [
      "\n",
      " Länge von df: 5314560\n",
      "\n",
      " Länge von df_ohne_f: 5150038\n"
     ]
    }
   ],
   "source": [
    "df_ohne_f = df[~(df['sign'] == 'f')]\n",
    "print('\\n', 'Länge von df:', len(df))\n",
    "print('\\n', 'Länge von df_ohne_f:', len(df_ohne_f))\n"
   ]
  },
  {
   "cell_type": "markdown",
   "id": "casual-process",
   "metadata": {},
   "source": [
    " "
   ]
  },
  {
   "cell_type": "markdown",
   "id": "broad-matrix",
   "metadata": {},
   "source": [
    " "
   ]
  },
  {
   "cell_type": "markdown",
   "id": "pleased-cathedral",
   "metadata": {},
   "source": [
    " "
   ]
  },
  {
   "cell_type": "markdown",
   "id": "large-museum",
   "metadata": {},
   "source": [
    "## Inteervalle festlegen, um zukünftig Ausreißer entfernen zu können.\n",
    " \n",
    "### Intervalsgrenzen bestimmen\n",
    "Die Intervalle beziehen sich auf die jeweilige Kategorie (n, p, z, s)."
   ]
  },
  {
   "cell_type": "code",
   "execution_count": 6,
   "id": "other-colombia",
   "metadata": {},
   "outputs": [
    {
     "name": "stdout",
     "output_type": "stream",
     "text": [
      "Die Intervalle sind auf die jeweiligen signs bezogen und dem entsprechenden Feature, jedoch haben diese nicht den selben Intervall, was bei der Modelierung später angepasst werden muss:\n",
      "\n",
      "n: \n",
      " VALUE: (67.79281497978246, 132.7155888368814) BACK_VALUE: (-86.29620736649818, 308.5234996934133) \n",
      "\n",
      "p: \n",
      " VALUE: (-89.2820048963031, 191.3068499376251) BACK_VALUE: (-10235.072866094875, 16227.178395537014) \n",
      "\n",
      "z: \n",
      " VALUE: (-86.97366500628134, 204.09270942776874) BACK_VALUE: (-236.47778804234548, 435.3835421745769) \n",
      "\n",
      "s: \n",
      " VALUE: (34.63217727631585, 151.129811708368) BACK_VALUE: (-410.9874897252928, 602.2923863216954) \n",
      "\n"
     ]
    }
   ],
   "source": [
    "print('Die Intervalle sind auf die jeweiligen signs bezogen und dem entsprechenden Feature, jedoch haben diese nicht den selben Intervall, was bei der Modelierung später angepasst werden muss:\\n')\n",
    "\n",
    "\"\"\"\n",
    "f_stdValue = f.std('value')\n",
    "f_stdBackvalue = f.std('backvalue')\n",
    "f_meanValue = f.mean('value')\n",
    "f_meanBackvalue = f.mean('backvalue')\n",
    "\n",
    "f_ValueGrenzen = ( f_meanValue - (3 * f_stdValue),\n",
    "                  f_meanValue + (3 * f_stdValue) )\n",
    "\n",
    "f_BackvalueGrenzen = ( f_meanBackvalue - (3 * f_stdBackvalue),\n",
    "                      f_meanBackvalue + (3 * f_stdBackvalue) )\n",
    "\n",
    "print('f :', '\\n', 'VALUE:', f_ValueGrenzen, 'BACK_VALUE:', f_BackvalueGrenzen, '\\n')\n",
    "\"\"\"\n",
    "\n",
    "\n",
    "n_stdValue = n.std('value')\n",
    "n_stdBackvalue = n.std('backvalue')\n",
    "n_meanValue = n.mean('value')\n",
    "n_meanBackvalue = n.mean('backvalue')\n",
    "\n",
    "\n",
    "n_ValueGrenzen = ( n_meanValue - (3 * n_stdValue),\n",
    "                  n_meanValue + (3 * n_stdValue) )\n",
    "\n",
    "n_BackvalueGrenzen = ( n_meanBackvalue - (3 * n_stdBackvalue),\n",
    "                      n_meanBackvalue + (3 * n_stdBackvalue) )\n",
    "\n",
    "print('n:', '\\n', 'VALUE:', n_ValueGrenzen, 'BACK_VALUE:', n_BackvalueGrenzen, '\\n')\n",
    "\n",
    "\n",
    "\n",
    "p_ValueGrenzen = ( p.mean('value') - (3 * p.std('value')),\n",
    "                  p.mean('value') + (3 * p.std('value')) )\n",
    "\n",
    "p_BackvalueGrenzen = ( p.mean('backvalue') - (3 * p.std('backvalue')),\n",
    "                      p.mean('backvalue') + (3 * p.std('backvalue')) )\n",
    "\n",
    "print('p:', '\\n', 'VALUE:', p_ValueGrenzen, 'BACK_VALUE:', p_BackvalueGrenzen, '\\n')\n",
    "\n",
    "\n",
    "\n",
    "z_ValueGrenzen = ( z.mean('value') - (3 * z.std('value')),\n",
    "                  z.mean('value') + (3 * z.std('value')) )\n",
    "\n",
    "z_BackvalueGrenzen = ( z.mean('backvalue') - (3 * z.std('backvalue')),\n",
    "                      z.mean('backvalue') + (3 * z.std('backvalue')) )\n",
    "\n",
    "print('z:', '\\n', 'VALUE:', z_ValueGrenzen, 'BACK_VALUE:', z_BackvalueGrenzen, '\\n')\n",
    "\n",
    "\n",
    "\n",
    "s_ValueGrenzen = ( s.mean('value') - (3 * s.std('value')),\n",
    "                  s.mean('value') + (3 * s.std('value')) )\n",
    "\n",
    "s_BackvalueGrenzen = ( s.mean('backvalue') - (3 * s.std('backvalue')),\n",
    "                      s.mean('backvalue') + (3 * s.std('backvalue')) )\n",
    "\n",
    "print('s:', '\\n', 'VALUE:', s_ValueGrenzen, 'BACK_VALUE:', s_BackvalueGrenzen, '\\n')\n"
   ]
  },
  {
   "cell_type": "markdown",
   "id": "generic-holmes",
   "metadata": {},
   "source": [
    "Das hier berechnete Intervall ist im Bezug auf die gesamte Datei ohne die Kategorie 'f', wobei sich hier nicht auf das jeweilige sign bezogen wird und somit problematisch sein könnte, aber zur Modllierung im späteren Verlauf besser zu verwenden ist und somit zukünftik damit gearbeitet wird.\n",
    "Die vorherigen Intervallsgrenzen wurden zur Veranschaunlichung erstellt, um einen Vergleich bzw. Abweichung besser modelieren zu können."
   ]
  },
  {
   "cell_type": "code",
   "execution_count": 7,
   "id": "great-allen",
   "metadata": {},
   "outputs": [
    {
     "name": "stdout",
     "output_type": "stream",
     "text": [
      "Wenn wir die Intevalle der importierten Datei bestimmen, was in df gespeichert wurde, kommt folgendes dabei raus:\n",
      "    df: \n",
      "    VALUE: (38.07067313089432, 150.27277827053746) BACK_VALUE: (-713.5645279374443, 923.3391621498805) \n",
      "\n",
      "    Mittelwert von 'value': 94.17172570071568 \n",
      "    Mittelwert von 'backvalue': 104.88731710621813 \n",
      "\n",
      "\n",
      "Wir verwenden vorhin beschrieben, jedoch die Intevalle der Datei ohne der Kategorie , was in df_ohne_f gespeichert wurde und kommt folgendes dabei raus:\n",
      "    df_ohne_f: \n",
      "    VALUE: (38.07129460869005, 150.03393152750283) BACK_VALUE: (-669.3395979545287, 874.6586361363945) \n",
      "\n",
      "    Mittelwert von 'value': 94.05261306809646 \n",
      "    Mittelwert von 'backvalue': 102.65951909093293\n"
     ]
    }
   ],
   "source": [
    "df_ValueGrenzen = ( df.mean('value') - (3 * df.std('value')),\n",
    "                   df.mean('value') + (3 * df.std('value')))\n",
    "\n",
    "df_BackvalueGrenzen = ( df.mean('backvalue') - (3 * df.std('backvalue')),\n",
    "                       df.mean('backvalue') + (3 * df.std('backvalue')) )\n",
    "\n",
    "print('Wenn wir die Intevalle der importierten Datei bestimmen, was in df gespeichert wurde, kommt folgendes dabei raus:')\n",
    "print('    df:', '\\n    VALUE:', df_ValueGrenzen, 'BACK_VALUE:', df_BackvalueGrenzen, '\\n')\n",
    "print(\"    Mittelwert von 'value':\", df.mean('value'), \"\\n    Mittelwert von 'backvalue':\", df.mean('backvalue'), '\\n\\n')\n",
    "\n",
    "\n",
    "\n",
    "df_ohne_f_ValueGrenzen = ( df_ohne_f.mean('value') - (3 * df_ohne_f.std('value')),\n",
    "                          df_ohne_f.mean('value') + (3 * df_ohne_f.std('value')))\n",
    "\n",
    "df_ohne_f_BackvalueGrenzen = ( df_ohne_f.mean('backvalue') - (3 * df_ohne_f.std('backvalue')),\n",
    "                              df_ohne_f.mean('backvalue') + (3 * df_ohne_f.std('backvalue')) )\n",
    "\n",
    "print('Wir verwenden vorhin beschrieben, jedoch die Intevalle der Datei ohne der Kategorie 'f', was in df_ohne_f gespeichert wurde und kommt folgendes dabei raus:')\n",
    "print('    df_ohne_f:', '\\n    VALUE:', df_ohne_f_ValueGrenzen, 'BACK_VALUE:', df_ohne_f_BackvalueGrenzen, '\\n')\n",
    "print(\"    Mittelwert von 'value':\", df_ohne_f.mean('value'), \"\\n    Mittelwert von 'backvalue':\", df_ohne_f.mean('backvalue'))\n"
   ]
  },
  {
   "cell_type": "markdown",
   "id": "cubic-student",
   "metadata": {},
   "source": [
    "=> Daraus ist erkenntlich, dass für den 'value' ein geringer Unterschied besteht ob der sign 'f' mit betrachtet wird oder nicht, wo hingegen es beim 'backvalue' es einen größeren Unterschied macht. Es werden zwar wenn wir die einzelnen sign's nochmal betrachten, einen Unterschied machen, ob wir sie zusammenhängend oder einzelnd betrachten, indem besipielsweise von den sign's n, z und s mehr Werte mit übernommen und betrachtet, wo es beim p so ist, dass es weniger werte sind, die betrachtet werden.\n",
    "\n",
    "Um es genauer Auszudrücken: Das betrachten der Intervallsgrenzen der Datei ohne der Kateegorie 'f' sorgt dafür, dass wir 4995633 Zeilen von den gesamten 5314560 haben, wenn wir jedoch die Kategorien einzeln betrachtet und derren Zeilen zusammengefügt hätten, wären es stattdessen 4992498, was eine Abweichung von 3135 Zeilen ist."
   ]
  },
  {
   "cell_type": "code",
   "execution_count": 9,
   "id": "lucky-turner",
   "metadata": {},
   "outputs": [
    {
     "name": "stdout",
     "output_type": "stream",
     "text": [
      "  df_without_f: 5150038 => df_cleaned_without_f: 4995633\n"
     ]
    }
   ],
   "source": [
    "df_cleaned_without_f = df_ohne_f[(df_ohne_f['value'] <= df_ohne_f_ValueGrenzen[1] )\n",
    "                                 & (df_ohne_f['value'] >= df_ohne_f_ValueGrenzen[0] )\n",
    "                                 & (df_ohne_f['backvalue'] <= df_ohne_f_BackvalueGrenzen[1] )\n",
    "                                 & (df_ohne_f['backvalue'] >= df_ohne_f_BackvalueGrenzen[0] )\n",
    "                                ]\n",
    "\n",
    "print('  df_without_f:', len(df_ohne_f), '=> df_cleaned_without_f:', len(df_cleaned_without_f))#, '\\n    -> Der Wert unterscheidet sich um', len(df_cleaned_without_f)-gesamt_anz, 'im verhältis zu der Menge, wo die signs einzeln betrachtet wurden.', '\\n')\n",
    "\n"
   ]
  },
  {
   "cell_type": "code",
   "execution_count": null,
   "id": "green-installation",
   "metadata": {},
   "outputs": [],
   "source": []
  },
  {
   "cell_type": "code",
   "execution_count": null,
   "id": "worldwide-utility",
   "metadata": {},
   "outputs": [],
   "source": []
  },
  {
   "cell_type": "code",
   "execution_count": null,
   "id": "sound-ownership",
   "metadata": {},
   "outputs": [],
   "source": []
  },
  {
   "cell_type": "code",
   "execution_count": null,
   "id": "square-tourist",
   "metadata": {},
   "outputs": [],
   "source": []
  }
 ],
 "metadata": {
  "kernelspec": {
   "display_name": "Python 3",
   "language": "python",
   "name": "python3"
  },
  "language_info": {
   "codemirror_mode": {
    "name": "ipython",
    "version": 3
   },
   "file_extension": ".py",
   "mimetype": "text/x-python",
   "name": "python",
   "nbconvert_exporter": "python",
   "pygments_lexer": "ipython3",
   "version": "3.7.9"
  }
 },
 "nbformat": 4,
 "nbformat_minor": 5
}
