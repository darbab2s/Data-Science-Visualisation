{
 "cells": [
  {
   "cell_type": "code",
   "execution_count": 1,
   "id": "underlying-caution",
   "metadata": {},
   "outputs": [
    {
     "ename": "ImportError",
     "evalue": "DLL load failed: Die angegebene Prozedur wurde nicht gefunden.",
     "output_type": "error",
     "traceback": [
      "\u001b[1;31m---------------------------------------------------------------------------\u001b[0m",
      "\u001b[1;31mImportError\u001b[0m                               Traceback (most recent call last)",
      "\u001b[1;32m<ipython-input-1-97501155c4b9>\u001b[0m in \u001b[0;36m<module>\u001b[1;34m\u001b[0m\n\u001b[0;32m      2\u001b[0m \u001b[0mstart_time\u001b[0m \u001b[1;33m=\u001b[0m \u001b[0mtime\u001b[0m\u001b[1;33m.\u001b[0m\u001b[0mtime\u001b[0m\u001b[1;33m(\u001b[0m\u001b[1;33m)\u001b[0m\u001b[1;33m\u001b[0m\u001b[1;33m\u001b[0m\u001b[0m\n\u001b[0;32m      3\u001b[0m \u001b[1;33m\u001b[0m\u001b[0m\n\u001b[1;32m----> 4\u001b[1;33m \u001b[1;32mimport\u001b[0m \u001b[0mvaex\u001b[0m\u001b[1;33m\u001b[0m\u001b[1;33m\u001b[0m\u001b[0m\n\u001b[0m\u001b[0;32m      5\u001b[0m \u001b[1;33m\u001b[0m\u001b[0m\n\u001b[0;32m      6\u001b[0m \u001b[1;33m\u001b[0m\u001b[0m\n",
      "\u001b[1;32m~\\anaconda3\\lib\\site-packages\\vaex\\__init__.py\u001b[0m in \u001b[0;36m<module>\u001b[1;34m\u001b[0m\n\u001b[0;32m     39\u001b[0m \u001b[1;32mimport\u001b[0m \u001b[0msix\u001b[0m\u001b[1;33m\u001b[0m\u001b[1;33m\u001b[0m\u001b[0m\n\u001b[0;32m     40\u001b[0m \u001b[1;33m\u001b[0m\u001b[0m\n\u001b[1;32m---> 41\u001b[1;33m \u001b[1;32mimport\u001b[0m \u001b[0mvaex\u001b[0m\u001b[1;33m.\u001b[0m\u001b[0mdataframe\u001b[0m\u001b[1;33m\u001b[0m\u001b[1;33m\u001b[0m\u001b[0m\n\u001b[0m\u001b[0;32m     42\u001b[0m \u001b[1;32mimport\u001b[0m \u001b[0mvaex\u001b[0m\u001b[1;33m.\u001b[0m\u001b[0mdataset\u001b[0m\u001b[1;33m\u001b[0m\u001b[1;33m\u001b[0m\u001b[0m\n\u001b[0;32m     43\u001b[0m \u001b[1;32mfrom\u001b[0m \u001b[0mvaex\u001b[0m\u001b[1;33m.\u001b[0m\u001b[0mfunctions\u001b[0m \u001b[1;32mimport\u001b[0m \u001b[0mregister_function\u001b[0m\u001b[1;33m\u001b[0m\u001b[1;33m\u001b[0m\u001b[0m\n",
      "\u001b[1;32m~\\anaconda3\\lib\\site-packages\\vaex\\dataframe.py\u001b[0m in \u001b[0;36m<module>\u001b[1;34m\u001b[0m\n\u001b[0;32m     14\u001b[0m \u001b[1;32mimport\u001b[0m \u001b[0mthreading\u001b[0m\u001b[1;33m\u001b[0m\u001b[1;33m\u001b[0m\u001b[0m\n\u001b[0;32m     15\u001b[0m \u001b[1;32mimport\u001b[0m \u001b[0msix\u001b[0m\u001b[1;33m\u001b[0m\u001b[1;33m\u001b[0m\u001b[0m\n\u001b[1;32m---> 16\u001b[1;33m \u001b[1;32mimport\u001b[0m \u001b[0mvaex\u001b[0m\u001b[1;33m.\u001b[0m\u001b[0mutils\u001b[0m\u001b[1;33m\u001b[0m\u001b[1;33m\u001b[0m\u001b[0m\n\u001b[0m\u001b[0;32m     17\u001b[0m \u001b[1;31m# import vaex.image\u001b[0m\u001b[1;33m\u001b[0m\u001b[1;33m\u001b[0m\u001b[1;33m\u001b[0m\u001b[0m\n\u001b[0;32m     18\u001b[0m \u001b[1;32mimport\u001b[0m \u001b[0mnumpy\u001b[0m \u001b[1;32mas\u001b[0m \u001b[0mnp\u001b[0m\u001b[1;33m\u001b[0m\u001b[1;33m\u001b[0m\u001b[0m\n",
      "\u001b[1;32m~\\anaconda3\\lib\\site-packages\\vaex\\utils.py\u001b[0m in \u001b[0;36m<module>\u001b[1;34m\u001b[0m\n\u001b[0;32m     17\u001b[0m \u001b[1;33m\u001b[0m\u001b[0m\n\u001b[0;32m     18\u001b[0m \u001b[1;32mimport\u001b[0m \u001b[0mnumpy\u001b[0m \u001b[1;32mas\u001b[0m \u001b[0mnp\u001b[0m\u001b[1;33m\u001b[0m\u001b[1;33m\u001b[0m\u001b[0m\n\u001b[1;32m---> 19\u001b[1;33m \u001b[1;32mimport\u001b[0m \u001b[0mpyarrow\u001b[0m \u001b[1;32mas\u001b[0m \u001b[0mpa\u001b[0m\u001b[1;33m\u001b[0m\u001b[1;33m\u001b[0m\u001b[0m\n\u001b[0m\u001b[0;32m     20\u001b[0m \u001b[1;32mimport\u001b[0m \u001b[0mprogressbar\u001b[0m\u001b[1;33m\u001b[0m\u001b[1;33m\u001b[0m\u001b[0m\n\u001b[0;32m     21\u001b[0m \u001b[1;32mimport\u001b[0m \u001b[0mpsutil\u001b[0m\u001b[1;33m\u001b[0m\u001b[1;33m\u001b[0m\u001b[0m\n",
      "\u001b[1;32m~\\anaconda3\\lib\\site-packages\\pyarrow\\__init__.py\u001b[0m in \u001b[0;36m<module>\u001b[1;34m\u001b[0m\n\u001b[0;32m     52\u001b[0m \u001b[1;33m\u001b[0m\u001b[0m\n\u001b[0;32m     53\u001b[0m \u001b[1;33m\u001b[0m\u001b[0m\n\u001b[1;32m---> 54\u001b[1;33m \u001b[1;32mfrom\u001b[0m \u001b[0mpyarrow\u001b[0m\u001b[1;33m.\u001b[0m\u001b[0mlib\u001b[0m \u001b[1;32mimport\u001b[0m \u001b[0mcpu_count\u001b[0m\u001b[1;33m,\u001b[0m \u001b[0mset_cpu_count\u001b[0m\u001b[1;33m\u001b[0m\u001b[1;33m\u001b[0m\u001b[0m\n\u001b[0m\u001b[0;32m     55\u001b[0m from pyarrow.lib import (null, bool_,\n\u001b[0;32m     56\u001b[0m                          \u001b[0mint8\u001b[0m\u001b[1;33m,\u001b[0m \u001b[0mint16\u001b[0m\u001b[1;33m,\u001b[0m \u001b[0mint32\u001b[0m\u001b[1;33m,\u001b[0m \u001b[0mint64\u001b[0m\u001b[1;33m,\u001b[0m\u001b[1;33m\u001b[0m\u001b[1;33m\u001b[0m\u001b[0m\n",
      "\u001b[1;31mImportError\u001b[0m: DLL load failed: Die angegebene Prozedur wurde nicht gefunden."
     ]
    }
   ],
   "source": [
    "import time\n",
    "start_time = time.time()\n",
    "\n",
    "import vaex\n",
    "\n",
    "\n",
    "import numpy as np\n",
    "import matplotlib.pyplot as plt\n",
    "\n",
    "import ipyvolume as ipv\n",
    "import bqplot\n",
    "\n",
    "import seaborn as sns\n",
    "\n",
    "import pandas as pd\n",
    "\n",
    "\n",
    "print(\"--- %s seconds ---\" % (time.time() - start_time))\n",
    "#1:55:40"
   ]
  },
  {
   "cell_type": "code",
   "execution_count": 2,
   "id": "determined-holiday",
   "metadata": {},
   "outputs": [
    {
     "name": "stdout",
     "output_type": "stream",
     "text": [
      "--- 121.06155848503113 seconds ---\n"
     ]
    }
   ],
   "source": [
    "start_time = time.time()\n",
    "df = vaex.from_csv('assets/annotation_example4.csv')\n",
    "print(\"--- %s seconds ---\" % (time.time() - start_time))"
   ]
  },
  {
   "cell_type": "code",
   "execution_count": 3,
   "id": "municipal-sapphire",
   "metadata": {},
   "outputs": [
    {
     "name": "stdout",
     "output_type": "stream",
     "text": [
      "--- 0.0 seconds ---\n"
     ]
    }
   ],
   "source": [
    "start_time = time.time()\n",
    "df = df['value', 'backvalue', 'sign','index']\n",
    "print(\"--- %s seconds ---\" % (time.time() - start_time))"
   ]
  },
  {
   "cell_type": "code",
   "execution_count": 4,
   "id": "partial-forty",
   "metadata": {},
   "outputs": [
    {
     "name": "stdout",
     "output_type": "stream",
     "text": [
      "min value: 0.0\n",
      "max value: 4091.47\n",
      "meanValue: 94.17177407621485\n",
      "stdValue: 18.7003919507594\n",
      "\n",
      "min backvalue: 0.0\n",
      "max backvalue: 31920.81\n",
      "meanBackvalue: 104.88728809461298\n",
      "stdBackvalue: 272.81822639903686\n",
      "\n",
      "values in specified 3std range: 5157240 equals 97.04059709648175\n",
      "\n",
      "--- 0.6540155410766602 seconds ---\n"
     ]
    }
   ],
   "source": [
    "# Data cleansing\n",
    "start_time = time.time()\n",
    "\n",
    "stdValue = df.std('value')\n",
    "stdBackvalue = df.std('backvalue')\n",
    "meanValue = df.mean('value')\n",
    "meanBackvalue = df.mean('backvalue')\n",
    "print(\"min value: \" +str(df.min('value')))\n",
    "print(\"max value: \"+str(df.max('value')))\n",
    "print(\"meanValue: \" +str(meanValue))\n",
    "print(\"stdValue: \"+ str(stdValue))\n",
    "print()\n",
    "print(\"min backvalue: \" +str(df.min('backvalue')))\n",
    "print(\"max backvalue: \" +str(df.max('backvalue')))\n",
    "print(\"meanBackvalue: \" + str(meanBackvalue))\n",
    "print(\"stdBackvalue: \" +str(stdBackvalue))\n",
    "length = len(df)\n",
    "print()\n",
    "\n",
    "meanPlusMinus3StdValue = (meanValue-3*stdValue, meanValue +3*stdValue)\n",
    "\n",
    "meanPlusMinus3StdBackvalue = (meanBackvalue -3*stdBackvalue, meanBackvalue +3*stdBackvalue)\n",
    "\n",
    "\n",
    "\n",
    "\n",
    "# cleansed dataframe 2\n",
    "readerCleansedWith3Std = df[(df['value'] <= meanPlusMinus3StdValue[1] )\n",
    "                                          & (df['value'] >= meanPlusMinus3StdValue[0])\n",
    "                                   & (df['backvalue'] <= meanPlusMinus3StdBackvalue[1]) \n",
    "                                          & (df['backvalue'] >= meanPlusMinus3StdBackvalue[0])]\n",
    "print(\"values in specified 3std range: \" +str(len(readerCleansedWith3Std)) + \" equals \" \n",
    "     + str(100* len(readerCleansedWith3Std)/length))\n",
    "print()\n",
    "df = readerCleansedWith3Std\n",
    "readerCleansedWith3Std = None\n",
    "print(\"--- %s seconds ---\" % (time.time() - start_time))"
   ]
  },
  {
   "cell_type": "code",
   "execution_count": null,
   "id": "matched-determination",
   "metadata": {},
   "outputs": [],
   "source": []
  },
  {
   "cell_type": "code",
   "execution_count": 5,
   "id": "excellent-action",
   "metadata": {},
   "outputs": [
    {
     "name": "stdout",
     "output_type": "stream",
     "text": [
      "--- 0.009999990463256836 seconds ---\n"
     ]
    }
   ],
   "source": [
    "start_time = time.time()\n",
    "\n",
    "@vaex.register_function()\n",
    "def signToNumber(s):\n",
    "    return ['f','n','z','p','s'].index(s)\n",
    "\n",
    "df['signNumber'] = df.apply(signToNumber, arguments=[df.sign])\n",
    "print(\"--- %s seconds ---\" % (time.time() - start_time))"
   ]
  },
  {
   "cell_type": "code",
   "execution_count": 6,
   "id": "eastern-distinction",
   "metadata": {},
   "outputs": [
    {
     "name": "stdout",
     "output_type": "stream",
     "text": [
      "--- 0.009999990463256836 seconds ---\n"
     ]
    }
   ],
   "source": [
    "start_time = time.time()\n",
    "\n",
    "df = df[df['signNumber']!= 0]\n",
    "print(\"--- %s seconds ---\" % (time.time() - start_time))"
   ]
  },
  {
   "cell_type": "code",
   "execution_count": 7,
   "id": "advisory-contrary",
   "metadata": {},
   "outputs": [
    {
     "data": {
      "application/vnd.jupyter.widget-view+json": {
       "model_id": "5fe9afec23cd4d3196c4e663aaf66ee6",
       "version_major": 2,
       "version_minor": 0
      },
      "text/plain": [
       "PlotTemplate(components={'main-widget': VBox(children=(VBox(children=(Figure(camera=PerspectiveCamera(fov=45.0…"
      ]
     },
     "metadata": {},
     "output_type": "display_data"
    },
    {
     "name": "stdout",
     "output_type": "stream",
     "text": [
      "--- 46.813079595565796 seconds ---\n"
     ]
    }
   ],
   "source": [
    "start_time = time.time()\n",
    "\n",
    "#np.seterr(all='ignore')\n",
    "\n",
    "df.plot_widget('value', 'backvalue', 'signNumber',opacity=[0,100], level_width=1,selection=[None,True],  backend='ipyvolume')\n",
    "print(\"--- %s seconds ---\" % (time.time() - start_time))"
   ]
  },
  {
   "cell_type": "code",
   "execution_count": 8,
   "id": "democratic-money",
   "metadata": {},
   "outputs": [
    {
     "data": {
      "text/html": [
       "<table>\n",
       "<thead>\n",
       "<tr><th>#                            </th><th style=\"text-align: right;\">  value</th><th style=\"text-align: right;\">  backvalue</th><th>sign  </th><th style=\"text-align: right;\">  index</th><th style=\"text-align: right;\">  signNumber</th></tr>\n",
       "</thead>\n",
       "<tbody>\n",
       "<tr><td>&lt;i style=&#x27;opacity: 0.6&#x27;&gt;0&lt;/i&gt;</td><td style=\"text-align: right;\">  88.33</td><td style=\"text-align: right;\">     131.05</td><td>s     </td><td style=\"text-align: right;\">      0</td><td style=\"text-align: right;\">           4</td></tr>\n",
       "<tr><td>&lt;i style=&#x27;opacity: 0.6&#x27;&gt;1&lt;/i&gt;</td><td style=\"text-align: right;\">  98.66</td><td style=\"text-align: right;\">      95.69</td><td>s     </td><td style=\"text-align: right;\">      1</td><td style=\"text-align: right;\">           4</td></tr>\n",
       "<tr><td>&lt;i style=&#x27;opacity: 0.6&#x27;&gt;2&lt;/i&gt;</td><td style=\"text-align: right;\">  99.09</td><td style=\"text-align: right;\">      79.79</td><td>s     </td><td style=\"text-align: right;\">      3</td><td style=\"text-align: right;\">           4</td></tr>\n",
       "<tr><td>&lt;i style=&#x27;opacity: 0.6&#x27;&gt;3&lt;/i&gt;</td><td style=\"text-align: right;\">  82.09</td><td style=\"text-align: right;\">     143.5 </td><td>s     </td><td style=\"text-align: right;\">      4</td><td style=\"text-align: right;\">           4</td></tr>\n",
       "<tr><td>&lt;i style=&#x27;opacity: 0.6&#x27;&gt;4&lt;/i&gt;</td><td style=\"text-align: right;\">  85.89</td><td style=\"text-align: right;\">      93.45</td><td>s     </td><td style=\"text-align: right;\">      5</td><td style=\"text-align: right;\">           4</td></tr>\n",
       "</tbody>\n",
       "</table>"
      ],
      "text/plain": [
       "  #    value    backvalue  sign      index    signNumber\n",
       "  0    88.33       131.05  s             0             4\n",
       "  1    98.66        95.69  s             1             4\n",
       "  2    99.09        79.79  s             3             4\n",
       "  3    82.09       143.5   s             4             4\n",
       "  4    85.89        93.45  s             5             4"
      ]
     },
     "execution_count": 8,
     "metadata": {},
     "output_type": "execute_result"
    }
   ],
   "source": [
    "df.head(5)"
   ]
  },
  {
   "cell_type": "code",
   "execution_count": 9,
   "id": "tight-tongue",
   "metadata": {},
   "outputs": [
    {
     "data": {
      "application/vnd.jupyter.widget-view+json": {
       "model_id": "7a0032000f4f41158346731fa8624109",
       "version_major": 2,
       "version_minor": 0
      },
      "text/plain": [
       "PlotTemplate(components={'main-widget': Figure(axes=[Axis(color='#777', grid_color='#777', grid_lines='none', …"
      ]
     },
     "metadata": {},
     "output_type": "display_data"
    }
   ],
   "source": [
    "(df[df['sign'] == 's'].widget.heatmap('value','backvalue',  colorbar= True, cmap = 'Reds'))\n"
   ]
  },
  {
   "cell_type": "code",
   "execution_count": null,
   "id": "capital-french",
   "metadata": {},
   "outputs": [],
   "source": []
  }
 ],
 "metadata": {
  "kernelspec": {
   "display_name": "Python 3",
   "language": "python",
   "name": "python3"
  },
  "language_info": {
   "codemirror_mode": {
    "name": "ipython",
    "version": 3
   },
   "file_extension": ".py",
   "mimetype": "text/x-python",
   "name": "python",
   "nbconvert_exporter": "python",
   "pygments_lexer": "ipython3",
   "version": "3.7.9"
  }
 },
 "nbformat": 4,
 "nbformat_minor": 5
}
